{
 "cells": [
  {
   "cell_type": "code",
   "execution_count": 1,
   "id": "9622c049",
   "metadata": {},
   "outputs": [
    {
     "name": "stdout",
     "output_type": "stream",
     "text": [
      "b is greater\n"
     ]
    }
   ],
   "source": [
    "#Assignment 1 If Else\n",
    "\n",
    "#Input the values of a and b as 10 and 20 respectively. Now check if a is greater or b is greater\n",
    "#using if condition. Think about all the edge cases, and print the statements accordingly.\n",
    "\n",
    "a = 10\n",
    "b = 20\n",
    "\n",
    "if a > b:\n",
    "    print(\"a is greater\")\n",
    "else:\n",
    "    print(\"b is greater\")"
   ]
  },
  {
   "cell_type": "code",
   "execution_count": 5,
   "id": "69e3e34d",
   "metadata": {},
   "outputs": [
    {
     "name": "stdout",
     "output_type": "stream",
     "text": [
      "Enter the number 1: 10\n",
      "Enter the number 2: 20\n",
      "Enter the number 3: 30\n",
      "The greatest number is 30\n"
     ]
    }
   ],
   "source": [
    "#Assignment 2 conditional statement\n",
    "\n",
    "#Take three user inputs and print the greatest number from those inputs using if-else\n",
    "#condition. Edge cases if any, should also be handled.\n",
    "\n",
    "val1 = int(input(\"Enter the number 1: \"))\n",
    "val2 = int(input(\"Enter the number 2: \"))\n",
    "val3 = int(input(\"Enter the number 3: \"))\n",
    "\n",
    "if (val1>val2) and (val1>val3):\n",
    "    greatest=val1\n",
    "elif (val2>val1) and (val2>val3):\n",
    "    greatest=val2\n",
    "else:\n",
    "    greatest=val3\n",
    "    \n",
    "print(\"The greatest number is\",greatest)"
   ]
  },
  {
   "cell_type": "code",
   "execution_count": 6,
   "id": "82bc16a5",
   "metadata": {},
   "outputs": [
    {
     "name": "stdout",
     "output_type": "stream",
     "text": [
      "1\n",
      "2\n",
      "3\n",
      "4\n",
      "5\n",
      "6\n",
      "7\n",
      "8\n",
      "9\n",
      "10\n"
     ]
    }
   ],
   "source": [
    "#Assignment 1 Loops\n",
    "\n",
    "#Print the numbers from 1 to 10 using while loop.\n",
    "\n",
    "i = 1\n",
    "while(i <= 10):\n",
    "    print(i)\n",
    "    i += 1"
   ]
  },
  {
   "cell_type": "code",
   "execution_count": 10,
   "id": "c9827612",
   "metadata": {},
   "outputs": [
    {
     "name": "stdout",
     "output_type": "stream",
     "text": [
      "10\n",
      "4\n",
      "26\n",
      "4\n",
      "24\n",
      "54\n"
     ]
    }
   ],
   "source": [
    "#Assignment 2 Loops\n",
    "\n",
    "#Create a list that is having 10,23,4,26,4,75,24,54 values and with the help of while loop, fetch\n",
    "#the even numbers and print the numbers.\n",
    "\n",
    "list_a = [10,23,4,26,4,75,24,54]\n",
    "\n",
    "i = 0\n",
    "while i < len(list_a):\n",
    "    element = list_a[i]\n",
    "    if element % 2 == 0:\n",
    "        print(element)\n",
    "    else:\n",
    "        pass\n",
    "    i += 1"
   ]
  },
  {
   "cell_type": "code",
   "execution_count": 17,
   "id": "63c7fb46",
   "metadata": {},
   "outputs": [
    {
     "name": "stdout",
     "output_type": "stream",
     "text": [
      "[1, 4, 9, 16, 25, 36, 49, 64, 81, 100]\n",
      "Enter the number: 2021\n",
      "2021 Year is not a leap Year\n"
     ]
    }
   ],
   "source": [
    "#Case Study 1\n",
    "\n",
    "#Create a list containing squares of numbers from 1 to 10\n",
    "\n",
    "list_sample = []\n",
    "for i in range(1,11):\n",
    "    list_sample.append(i)\n",
    "\n",
    "squared_numbers = [number ** 2 for number in list_sample]\n",
    "print(squared_numbers)"
   ]
  },
  {
   "cell_type": "code",
   "execution_count": 27,
   "id": "961439aa",
   "metadata": {},
   "outputs": [
    {
     "name": "stdout",
     "output_type": "stream",
     "text": [
      "even members:  [2, 4]\n"
     ]
    }
   ],
   "source": [
    "#Write a Function to take an array and return another array that contains the members of first\n",
    "#array that are even\n",
    "\n",
    "def check_array(sample_array):\n",
    "    even_array = []\n",
    "    for i in sample_array:\n",
    "        number = int(str(i))\n",
    "        if number % 2 == 0:\n",
    "            even_array.append(number)\n",
    "    print(\"even members: \", even_array)\n",
    "\n",
    "sample_array = [1,2,3,4,5]\n",
    "\n",
    "check_array(sample_array)"
   ]
  },
  {
   "cell_type": "code",
   "execution_count": 30,
   "id": "0ca037d9",
   "metadata": {},
   "outputs": [
    {
     "name": "stdout",
     "output_type": "stream",
     "text": [
      "Enter the list items : 1 2 3 4 5\n",
      "Enter the list items : 2 3 4 5 6\n",
      "Final Array [1, 2, 3, 4, 5, 6]\n"
     ]
    }
   ],
   "source": [
    "#Write a Function that takes 2 arrays and prints the members of first array that are present of\n",
    "#second array. (HINT: use Membership Comprehension)\n",
    "\n",
    "def two_array(first, second):\n",
    "    temp_array = first + second\n",
    "    final_array = []\n",
    "    [final_array.append(x) for x in temp_array if x not in final_array]\n",
    "    print(\"Final Array\", final_array)\n",
    "    \n",
    "lst1 = [int(item) for item in input(\"Enter the list items : \").split()]\n",
    "lst2 = [int(item) for item in input(\"Enter the list items : \").split()]\n",
    "two_array(lst1, lst2)"
   ]
  },
  {
   "cell_type": "code",
   "execution_count": 31,
   "id": "fad8db87",
   "metadata": {},
   "outputs": [
    {
     "name": "stdout",
     "output_type": "stream",
     "text": [
      "Enter the number: 2021\n",
      "2021 Year is not a leap Year\n"
     ]
    }
   ],
   "source": [
    "#Write a Function to check if year number is a leap year.\n",
    "\n",
    "def checkLeap(year):\n",
    "    if((year % 400 == 0) or (year % 100 != 0) and (year % 4 == 0)):\n",
    "        print(\"%d Year is a leap Year\" %(year));   \n",
    "    else:  \n",
    "        print (\"%d Year is not a leap Year\" %(year))  \n",
    "# Taking an input year from user  \n",
    "year = int(input(\"Enter the year: \"))  \n",
    "# Printing result  \n",
    "checkLeap(year)"
   ]
  },
  {
   "cell_type": "code",
   "execution_count": 44,
   "id": "067c27f3",
   "metadata": {},
   "outputs": [
    {
     "name": "stdout",
     "output_type": "stream",
     "text": [
      "first three elements from 't_combine' (10, 20, 30)\n",
      "last three elements from 't_combine' (60, 50, 40)\n"
     ]
    }
   ],
   "source": [
    "#Case study 2\n",
    "\n",
    "#1. Create 1st tuple with values -> (10,20,30), 2nd tuple with values -> (40,50,60).\n",
    "\n",
    "tuple_1 = 10,20,30\n",
    "tuple_2 = 40,50,60\n",
    "\n",
    "#a. Concatenate the two tuples and store it in “t_combine”\n",
    "t_combine = tuple_1 + tuple_2\n",
    "\n",
    "#b. Repeat the elements of “t_combine” 3 times\n",
    "t_combine * 3\n",
    "\n",
    "#c. Access the 3rd element from “t_combine”\n",
    "t_combine[3]\n",
    "\n",
    "#d. Access the first three elements from “t_combine”\n",
    "t_combine_list = list(t_combine)\n",
    "first_3_element = []\n",
    "i = 0\n",
    "while i < len(t_combine_list):\n",
    "    element = t_combine_list[i]\n",
    "    first_3_element.append(element)\n",
    "    i += 1\n",
    "    if i == 3:\n",
    "        break\n",
    "print(\"first three elements from 't_combine'\", tuple(first_3_element))\n",
    "\n",
    "#e. Access the last three elements from “t_combine”\n",
    "last_3_element = []\n",
    "j = -1\n",
    "while j < len(t_combine_list):\n",
    "    element = t_combine_list[j]\n",
    "    last_3_element.append(element)\n",
    "    j -= 1\n",
    "    if j == -4:\n",
    "        break\n",
    "print(\"last three elements from 't_combine'\", tuple(last_3_element))\n",
    "\n"
   ]
  },
  {
   "cell_type": "code",
   "execution_count": 3,
   "id": "6bd4233e",
   "metadata": {},
   "outputs": [
    {
     "name": "stdout",
     "output_type": "stream",
     "text": [
      "Enter a number for range: 30\n",
      "3\n",
      "5\n",
      "7\n",
      "9\n",
      "11\n",
      "13\n",
      "15\n",
      "17\n",
      "19\n",
      "21\n",
      "23\n",
      "25\n",
      "27\n",
      "29\n"
     ]
    }
   ],
   "source": [
    "# Assignment 5 Loops\n",
    "\n",
    "#Create an array that is having user defined inputs and with the help of for loop, fetch all the prime\n",
    "#numbers and print the numbers.\n",
    "\n",
    "number = int(input(\"Enter a number for range: \"))\n",
    "\n",
    "list_prime = []\n",
    "for i in range(0,number):\n",
    "    list_prime.append(i)\n",
    "    \n",
    "for prime in list_prime:\n",
    "    if prime > 1:\n",
    "        if (prime % 2) != 0:\n",
    "            print(prime)\n",
    "        else:\n",
    "            pass"
   ]
  }
 ],
 "metadata": {
  "kernelspec": {
   "display_name": "Python 3 (ipykernel)",
   "language": "python",
   "name": "python3"
  },
  "language_info": {
   "codemirror_mode": {
    "name": "ipython",
    "version": 3
   },
   "file_extension": ".py",
   "mimetype": "text/x-python",
   "name": "python",
   "nbconvert_exporter": "python",
   "pygments_lexer": "ipython3",
   "version": "3.9.7"
  }
 },
 "nbformat": 4,
 "nbformat_minor": 5
}

{
 "cells": [
  {
   "cell_type": "code",
   "execution_count": 1,
   "id": "73f7346b",
   "metadata": {},
   "outputs": [
    {
     "name": "stdout",
     "output_type": "stream",
     "text": [
      "An exception occurred\n"
     ]
    }
   ],
   "source": [
    "#Assignment 1 Exception Handling\n",
    "\n",
    "#1. With the help of try and inbuilt exception, display the exception.\n",
    "\n",
    "try:\n",
    "    print(x)\n",
    "except:\n",
    "    print(\"An exception occurred\")"
   ]
  },
  {
   "cell_type": "code",
   "execution_count": 5,
   "id": "79040937",
   "metadata": {},
   "outputs": [
    {
     "name": "stdout",
     "output_type": "stream",
     "text": [
      "Enter a value1: 1\n",
      "Enter a value1: 0\n",
      "Cannot divide by zero\n"
     ]
    }
   ],
   "source": [
    "#2. Take two user inputs and pass those input variables in a try block. If the user input is 0, then\n",
    "#throw the ZeroDivisionError exception.\n",
    "\n",
    "val1 = int(input(\"Enter a value1: \"))\n",
    "val2 = int(input(\"Enter a value1: \"))\n",
    "\n",
    "try:\n",
    "    print(val1/val2)\n",
    "except ZeroDivisionError:\n",
    "    print(\"Cannot divide by zero\")"
   ]
  },
  {
   "cell_type": "code",
   "execution_count": 10,
   "id": "8fa406ff",
   "metadata": {},
   "outputs": [
    {
     "name": "stdout",
     "output_type": "stream",
     "text": [
      "inf\n"
     ]
    }
   ],
   "source": [
    "#Import math package and with the help of math package, print – math.exp(50000). Now use\n",
    "#the inbuilt OverflowError exception on the math.exp(), and print the exception.\n",
    "\n",
    "import math\n",
    "\n",
    "try:\n",
    "    ans = math.exp(50000)\n",
    "    print(ans)\n",
    "except OverflowError:\n",
    "    ans = float('inf')\n",
    "    print(ans)"
   ]
  },
  {
   "cell_type": "code",
   "execution_count": 3,
   "id": "740f02d2",
   "metadata": {},
   "outputs": [
    {
     "name": "stdout",
     "output_type": "stream",
     "text": [
      "Requirement already satisfied: termcolor in c:\\users\\destructive beast\\anaconda3\\lib\\site-packages (1.1.0)\n",
      "\u001b[41m\u001b[32mHello World\u001b[0m\n"
     ]
    }
   ],
   "source": [
    "#Now install the ‘termcolor’ package in the anaconda prompt, and import that package to\n",
    "#provide the colors to the print statement in Jupyter Notebook.\n",
    "\n",
    "!pip install termcolor\n",
    "\n",
    "from termcolor import colored, cprint\n",
    "\n",
    "cprint(\"Hello World\", 'green', 'on_red')\n"
   ]
  },
  {
   "cell_type": "code",
   "execution_count": 1,
   "id": "9d262cb6",
   "metadata": {},
   "outputs": [
    {
     "name": "stdout",
     "output_type": "stream",
     "text": [
      "You can't divide with zero\n"
     ]
    }
   ],
   "source": [
    "#create your own expectation with the help of class and functions\n",
    "\n",
    "def divide(x,y):\n",
    "    try:\n",
    "        result = x/y\n",
    "        print(\"Result is: \", result)\n",
    "    except ZeroDivisionError:\n",
    "        print(\"You can't divide with zero\")\n",
    "        \n",
    "divide(3,0)"
   ]
  },
  {
   "cell_type": "code",
   "execution_count": 4,
   "id": "a83c1db4",
   "metadata": {},
   "outputs": [
    {
     "name": "stdout",
     "output_type": "stream",
     "text": [
      "factor of 10 is 3628800\n"
     ]
    }
   ],
   "source": [
    "#Assignment 2 Fuction and Class\n",
    "\n",
    "#1. Create a function named ‘factor’ that can only accepts 1 argument. The function should\n",
    "#return the factorial of that number.\n",
    "\n",
    "def factor(x):\n",
    "    factor = 1\n",
    "    if x < 0:\n",
    "        print(\"Factorial can't exist\")\n",
    "    elif x == 0:\n",
    "        print(\"Factorial is 1\")\n",
    "    else:\n",
    "        for i in range(1,x+1):\n",
    "            factor *= i\n",
    "        print(\"factor of %d is %d\" %(x,factor))\n",
    "        \n",
    "factor(10)   "
   ]
  },
  {
   "cell_type": "code",
   "execution_count": 6,
   "id": "003b2d2c",
   "metadata": {},
   "outputs": [
    {
     "name": "stdout",
     "output_type": "stream",
     "text": [
      "Enter a String: small\n",
      "The string is containing the letter ‘s’\n"
     ]
    }
   ],
   "source": [
    "#Create a function named ‘check_string’, the function should accept a string data from the\n",
    "#user and the function should check if the user input contains the letter ‘s’ in it. If it contains\n",
    "#the letter ‘s’ then print- ‘The string is containing the letter ‘s’’, if not then print- ‘The string\n",
    "#doesn’t contain the letter ‘s’’.\n",
    "\n",
    "def check_string(string):\n",
    "    if \"s\" in string:\n",
    "        print(\"The string is containing the letter ‘s’\")\n",
    "    else:\n",
    "        print(\"The string doesn't contain the letter ‘s’\")\n",
    "        \n",
    "string = str(input(\"Enter a String: \"))\n",
    "\n",
    "check_string(string)"
   ]
  },
  {
   "cell_type": "code",
   "execution_count": 14,
   "id": "eaba84e9",
   "metadata": {},
   "outputs": [
    {
     "name": "stdout",
     "output_type": "stream",
     "text": [
      "abc\n",
      "abc\n",
      "def\n"
     ]
    }
   ],
   "source": [
    "#Create a class named ‘student’ and inside the class, create a function named ‘fun1’- this\n",
    "#method should accepts the user defined input and return that value.\n",
    "\n",
    "#a. Create another method named- message() and that method should print the user\n",
    "#defined input that we have defined in ‘fun1’\n",
    "\n",
    "class Student:\n",
    "    \n",
    "    def fun1(self):\n",
    "        print(\"abc\")\n",
    "    \n",
    "    def message(self):\n",
    "        self.fun1()\n",
    "        print(\"def\")\n",
    "\n",
    "object = Student()\n",
    "object.fun1()\n",
    "object.message()"
   ]
  },
  {
   "cell_type": "code",
   "execution_count": 15,
   "id": "741d79fb",
   "metadata": {},
   "outputs": [
    {
     "data": {
      "text/plain": [
       "4"
      ]
     },
     "execution_count": 15,
     "metadata": {},
     "output_type": "execute_result"
    }
   ],
   "source": [
    "#Create a lambda function that should double or multiply the number (that we will be passing\n",
    "#in the lambda function) by 2. Store the lambda function in a variable named ‘double_num’.\n",
    "\n",
    "double_num = lambda x:x*x\n",
    "\n",
    "double_num(2)"
   ]
  },
  {
   "cell_type": "code",
   "execution_count": 17,
   "id": "bbc8144c",
   "metadata": {},
   "outputs": [
    {
     "name": "stdout",
     "output_type": "stream",
     "text": [
      "Enter a string: malayalam\n",
      "Yes\n"
     ]
    }
   ],
   "source": [
    "#Take user input string and check whether that string is palindrome or not.\n",
    "\n",
    "def palindrome(string):\n",
    "    return string == string[::-1]\n",
    "\n",
    "string = str(input(\"Enter a string: \"))\n",
    "string_final = palindrome(string)\n",
    "\n",
    "if string_final:\n",
    "    print(\"Yes\")\n",
    "else:\n",
    "    print(\"no\")"
   ]
  },
  {
   "cell_type": "code",
   "execution_count": 18,
   "id": "139b5044",
   "metadata": {},
   "outputs": [
    {
     "name": "stdout",
     "output_type": "stream",
     "text": [
      "This is function 1 in the super class\n"
     ]
    }
   ],
   "source": [
    "#Assignment 3 Functions Assignment\n",
    "\n",
    "#Create a class named ‘Super’ and inside that class define a user-defined function named\n",
    "#fun1.\n",
    "#a. Inside the ‘fun1’ function, pass the message “This is function 1 in the Super class.”\n",
    "#in the print statement.\n",
    "\n",
    "class Super:\n",
    "    \n",
    "    def fun1(self):\n",
    "        print(\"This is function 1 in the super class\")\n",
    "        \n",
    "obj = Super()\n",
    "obj.fun1()"
   ]
  },
  {
   "cell_type": "code",
   "execution_count": 19,
   "id": "813ca993",
   "metadata": {},
   "outputs": [
    {
     "name": "stdout",
     "output_type": "stream",
     "text": [
      "This is function 1 in the Modified Super class\n"
     ]
    }
   ],
   "source": [
    "#Create another classed named ‘Modified_Super’ and inherit this class from the Super class.\n",
    "#a. Inside the Modified_Super class, create a function named ‘fun1’ and pass the\n",
    "#following message inside the print statement: ‘This is function 1 in the Modified\n",
    "#Super class.’\n",
    "#b. Create another user-defined function named ‘fun2’ and pass the message: ‘This is\n",
    "#the 2nd function from the Modified Super class’ in the print statement.\n",
    "#c. After that, now create an object for the Modified_Super class and call the fun1().\n",
    "\n",
    "class Modifier_super(Super):\n",
    "    \n",
    "    def fun1(self):\n",
    "        print(\"This is function 1 in the Modified Super class\")\n",
    "        \n",
    "    def fun2(self):\n",
    "        print(\"This is the 2nd function from the Modified Super class\")\n",
    "        \n",
    "obj = Modifier_super()\n",
    "obj.fun1()"
   ]
  },
  {
   "cell_type": "code",
   "execution_count": 21,
   "id": "b2628977",
   "metadata": {},
   "outputs": [
    {
     "name": "stdout",
     "output_type": "stream",
     "text": [
      "This function is only having 1 argument\n",
      "This function is having 2 argument\n"
     ]
    }
   ],
   "source": [
    "#Create 2 methods named ‘Hello’. In the 1st Hello method, pass only one argument and pass\n",
    "#this message: ‘This function is only having 1 argument’. And in the 2nd Hello method, pass\n",
    "#two arguments and pass this message: ‘This function is having 2 arguments’.\n",
    "#a. Try to call both the methods and analyze the output of both the methods.\n",
    "\n",
    "def hello(x):\n",
    "    print(\"This function is only having 1 argument\")\n",
    "    \n",
    "hello(1)\n",
    "    \n",
    "def hello(x,y):\n",
    "    print(\"This function is having 2 argument\")\n",
    "    \n",
    "hello(1,2)"
   ]
  },
  {
   "cell_type": "code",
   "execution_count": 25,
   "id": "9d69cf7c",
   "metadata": {},
   "outputs": [
    {
     "data": {
      "text/plain": [
       "10"
      ]
     },
     "execution_count": 25,
     "metadata": {},
     "output_type": "execute_result"
    }
   ],
   "source": [
    "#Create a method named ‘Sum’ that can accept multiple user inputs.\n",
    "#Now add those userdefined input values using for loop and the function should return the addition of the\n",
    "#numbers.\n",
    "\n",
    "def Sum(list_elemet):\n",
    "    total = 0\n",
    "    for ele in list_element:\n",
    "        total += ele\n",
    "    return total\n",
    "\n",
    "list_element = [1,2,3,4]\n",
    "Sum(list_element)"
   ]
  },
  {
   "cell_type": "code",
   "execution_count": 37,
   "id": "689f1388",
   "metadata": {},
   "outputs": [
    {
     "name": "stdout",
     "output_type": "stream",
     "text": [
      "10\n",
      "Enter a new value: 20\n",
      "20\n"
     ]
    }
   ],
   "source": [
    "#Create a class named ‘Encapsulation’:\n",
    "#a. Inside the class, first create a constructor. Inside the constructor, initialize\n",
    "#originalValue variable as 10.\n",
    "#b. After creating the constructor, define a function named ‘Value’ and this function\n",
    "#should return the variable that we have initialized in the constructor.\n",
    "#c. Now create 2nd function named setValue, and pass an argument named\n",
    "#‘newValue’. The task of this function will be to replace the value of the\n",
    "#originalValue variable by the value of newValue variable\n",
    "\n",
    "class Encapsulation:\n",
    "    \n",
    "    def __init__(self):\n",
    "        self.a = 10\n",
    "        \n",
    "    def value(self):\n",
    "        print(self.a)\n",
    "        \n",
    "    def setvalue(self,newValue):\n",
    "        self.a = newValue\n",
    "        print(self.a)\n",
    "        \n",
    "obj = Encapsulation()\n",
    "\n",
    "obj.value()\n",
    "newValue = int(input(\"Enter a new value: \"))\n",
    "obj.setvalue(newValue)"
   ]
  },
  {
   "cell_type": "code",
   "execution_count": 39,
   "id": "eedcade8",
   "metadata": {},
   "outputs": [],
   "source": [
    "#Create a python file named Module.\n",
    "#a. Inside the file, define 4 methods named – addition, subtraction, multiplication, and\n",
    "#division.\n",
    "#b. Each method should only accept 2 arguments and should return the result of operation\n",
    "#performed in each method. For e.g., addition() should return the sum of two arguments.\n",
    "#c. Save the Module file in .py format.\n",
    "\n",
    "#create a file module.py\n",
    "\n",
    "def addition(x,y):\n",
    "    return x+y\n",
    "\n",
    "def substration(x,y):\n",
    "    return x - y\n",
    "\n",
    "def multiplication(x,y):\n",
    "    return x * y\n",
    "\n",
    "def division(x,y):\n",
    "    return x / y"
   ]
  },
  {
   "cell_type": "code",
   "execution_count": null,
   "id": "f1657e48",
   "metadata": {},
   "outputs": [],
   "source": [
    "#Open a new python file and import the Module.py file.\n",
    "#a. Now call the 4 methods from the Module.py file, i.e., addition(), subtraction(),\n",
    "#multiplication(), and division().\n",
    "\n",
    "from module import *\n",
    "\n",
    "addition(1,2)\n",
    "substration(1,2)\n",
    "multiplication(1,2)\n",
    "division(1,2)"
   ]
  },
  {
   "cell_type": "code",
   "execution_count": null,
   "id": "5177b2b9",
   "metadata": {},
   "outputs": [],
   "source": [
    "#From the Module file, import only the addition() and pass the arguments so that it can\n",
    "#display the result from the method.\n",
    "\n",
    "from module import addition\n",
    "\n",
    "addition(1,2)"
   ]
  },
  {
   "cell_type": "code",
   "execution_count": null,
   "id": "46a80844",
   "metadata": {},
   "outputs": [],
   "source": [
    "#From the Module file, import only the subtraction() and pass the arguments so that it can\n",
    "#display the result from the method.\n",
    "\n",
    "from module import subtraction\n",
    "\n",
    "subtraction(1,2)"
   ]
  },
  {
   "cell_type": "code",
   "execution_count": null,
   "id": "ce04be4b",
   "metadata": {},
   "outputs": [],
   "source": [
    "#From the Module file, import both the multiplication() and division() and pass the arguments\n",
    "#so that it can display the result from the methods.\n",
    "\n",
    "from module import multiplication,division\n",
    "\n",
    "multiplication(1,2)\n",
    "division(1,2)"
   ]
  },
  {
   "cell_type": "code",
   "execution_count": 1,
   "id": "fd4891fa",
   "metadata": {},
   "outputs": [
    {
     "name": "stdout",
     "output_type": "stream",
     "text": [
      "10\n"
     ]
    }
   ],
   "source": [
    "#Assignment 5 Inheritance Assignment\n",
    "\n",
    "#Create a class named parent_Class and inside the class, initialize a global variable num as 10.\n",
    "#a. Create another class named child_Class and this class should be inherited from the\n",
    "#parent class.\n",
    "#b. Now create an object for the child_Class and with the help of child_Class object, display\n",
    "#the value of ‘num’.\n",
    "\n",
    "class Parent_class:\n",
    "    \n",
    "    def __init__(self):\n",
    "        self.num = 10\n",
    "        \n",
    "class Child_class(Parent_class):\n",
    "    \n",
    "    def fun(self):\n",
    "        print(self.num)\n",
    "        \n",
    "obj = Child_class()\n",
    "obj.fun()"
   ]
  },
  {
   "cell_type": "code",
   "execution_count": 1,
   "id": "d0279bb5",
   "metadata": {},
   "outputs": [
    {
     "data": {
      "text/plain": [
       "'Bhargav'"
      ]
     },
     "execution_count": 1,
     "metadata": {},
     "output_type": "execute_result"
    }
   ],
   "source": [
    "#Create three class named A, B, and C.\n",
    "#a. Inside the A class, create a constructor. Inside the constructor, initilize 2 global variablesname and age.\n",
    "#b. After initializing the global variables inside the constructor, now create a funtion named\n",
    "#‘details’ and that function should return the ‘name’ variable.\n",
    "#c. Inside the B class, create a constructor. Inside the contructor, initialize 2 global veriablesname and id.\n",
    "#d. After initializing the global variables inside the constructor, now create a funtion named\n",
    "#‘details’ and that function should return the ‘name’ variable.\n",
    "#e. The C class should inherit from class A, and B. Inside the class C, create a constructor,\n",
    "#and inside the constructor, call the contructor of class A.\n",
    "#f. Now, create a method inside the class C, as get_details, and this fucntion should return\n",
    "#the vaue of name.\n",
    "#g. Atlast, create an object of class C, and with the help of the object, call the get_details().\n",
    "\n",
    "class A:\n",
    "    def __init__(self):\n",
    "        self.name = \"Bhargav\"\n",
    "        self.age = 23\n",
    "    def details(self):\n",
    "        return self.name\n",
    "        \n",
    "class B:\n",
    "    def __init__(self):\n",
    "        self.name = \"Liza\" \n",
    "        self.id = 23\n",
    "    def details(self):\n",
    "        return self.name\n",
    "        \n",
    "class C(A,B):\n",
    "    def __init__(self):\n",
    "        A.__init__(self)\n",
    "    def get_details(self):\n",
    "        return self.name\n",
    "        \n",
    "obj = C()\n",
    "obj.get_details()"
   ]
  },
  {
   "cell_type": "code",
   "execution_count": 7,
   "id": "eef26ce7",
   "metadata": {},
   "outputs": [
    {
     "name": "stdout",
     "output_type": "stream",
     "text": [
      "This is the first function from Sub 1 class\n",
      "This is the second function from the Sub 2 class\n",
      "This is the final method from the super class\n"
     ]
    }
   ],
   "source": [
    "#Create a class named ‘Sub1’, inside the class, generate a user defined function named ‘first’\n",
    "#and inside the function, pass the following statement in the print()- ‘This is the first function\n",
    "#from Sub 1 class’.\n",
    "#a. Now create another class named ‘Sub2’, and inside the class, create a function\n",
    "#named ‘second’, and pass the following message in the print()- ‘This is the\n",
    "#second function from the Sub 2 class’.\n",
    "#b. After that, create another class named ‘Super’ and inside that class, create a\n",
    "#method named ‘final’, and pass the below message in the print()- ‘This is the\n",
    "#final method from the super class’.\n",
    "#c. Now, create an object for the Super class and call all the 3 user defined\n",
    "#methods, i.e., first(), second(), and final().\n",
    "\n",
    "class Sub1:\n",
    "    \n",
    "    def first(self):\n",
    "        print(\"This is the first function from Sub 1 class\")\n",
    "        \n",
    "class Sub2:\n",
    "    \n",
    "    def second(self):\n",
    "        print(\"This is the second function from the Sub 2 class\")\n",
    "        \n",
    "class Super(Sub1,Sub2):\n",
    "    \n",
    "    def final(self):\n",
    "        print(\"This is the final method from the super class\")\n",
    "        \n",
    "obj = Super()\n",
    "obj.first()\n",
    "obj.second()\n",
    "obj.final()"
   ]
  },
  {
   "cell_type": "code",
   "execution_count": 9,
   "id": "6b4342a0",
   "metadata": {},
   "outputs": [
    {
     "name": "stdout",
     "output_type": "stream",
     "text": [
      "This is the message from the fun1\n"
     ]
    }
   ],
   "source": [
    "#Create a class named ‘Parent’, and inside the class, create a function named ‘fun1’ and pass\n",
    "#the following message in the print()- ‘This is the message from the fun1’.\n",
    "#a. Now create a class named ‘Child1’ and inside the class, create a method named ‘fun2’\n",
    "#and pass the following message in the print()- ‘This is the message from the fun2’.\n",
    "#b. After that, create another class named ‘Child2’ and inside the class, create a method\n",
    "#named ‘fun3’ and pass the following message in the print()- ‘This is the message from\n",
    "#the fun3’.\n",
    "#c. Now, create an object of Child2 class and with the help of the object, call the ‘fun1’\n",
    "#method from the ‘Parent’ class.\n",
    "\n",
    "class Parent:\n",
    "    \n",
    "    def fun1(self):\n",
    "        print(\"This is the message from the fun1\")\n",
    "        \n",
    "class Child1:\n",
    "    \n",
    "    def fun2(self):\n",
    "        print(\"This is the message from the fun2\")\n",
    "        \n",
    "class Child2(Parent):\n",
    "    \n",
    "    def fun3(self):\n",
    "        print(\"This is the message from the fun3\")\n",
    "        \n",
    "obj = Child2()\n",
    "obj.fun1()"
   ]
  },
  {
   "cell_type": "code",
   "execution_count": 10,
   "id": "9cf36733",
   "metadata": {},
   "outputs": [
    {
     "name": "stdout",
     "output_type": "stream",
     "text": [
      "This is the message from the fun1\n",
      "This is the message from the fun2\n",
      "This is the message from the fun3\n"
     ]
    }
   ],
   "source": [
    "#Create a class named ‘Parent’, and inside the class, create a function named ‘fun1’ and pass\n",
    "#the following message in the print()- ‘This is the message from the fun1’.\n",
    "#a. Now create a class named ‘Child’ and inside the class, create a method named ‘fun2’ and\n",
    "#pass the following message in the print()- ‘This is the message from the fun2’.\n",
    "#b. After that, create another class named ‘Hybrid’ and inside the class, create a method\n",
    "#named ‘fun3’ and pass the following message in the print()- ‘This is the message from\n",
    "#the fun3’.\n",
    "#c. Now, create an object of Hybrid class and with the help of the object, call the ‘fun1’,\n",
    "#‘fun2’, and ‘fun3’ methods.\n",
    "\n",
    "class Parent:\n",
    "    \n",
    "    def fun1(self):\n",
    "        print(\"This is the message from the fun1\")\n",
    "        \n",
    "class Child:\n",
    "    \n",
    "    def fun2(self):\n",
    "        print(\"This is the message from the fun2\")\n",
    "        \n",
    "class Hybrid(Parent,Child):\n",
    "    \n",
    "    def fun3(self):\n",
    "        print(\"This is the message from the fun3\")\n",
    "        \n",
    "obj = Hybrid()\n",
    "obj.fun1()\n",
    "obj.fun2()\n",
    "obj.fun3()"
   ]
  },
  {
   "cell_type": "code",
   "execution_count": 4,
   "id": "0be9cb68",
   "metadata": {},
   "outputs": [
    {
     "data": {
      "text/plain": [
       "('bhargav', 23000)"
      ]
     },
     "execution_count": 4,
     "metadata": {},
     "output_type": "execute_result"
    }
   ],
   "source": [
    "#Case Study Concepts of Oops\n",
    "\n",
    "#1. Create a class names Employee, with a constructor ‘__init__’ method that accepts name and\n",
    "#salary as parameters and set properties named name and salary.\n",
    "\n",
    "class Employee:\n",
    "    \n",
    "    def __init__(self,name,salary):\n",
    "        self.name = name\n",
    "        self.salary = salary\n",
    "        \n",
    "    def getname(self):\n",
    "        return self.name,self.salary\n",
    "        \n",
    "obj = Employee('bhargav', 23000)\n",
    "obj.getname()"
   ]
  },
  {
   "cell_type": "code",
   "execution_count": 6,
   "id": "a001d0c4",
   "metadata": {},
   "outputs": [
    {
     "data": {
      "text/plain": [
       "'Employee(name= Bhargav ,salary= 33000)'"
      ]
     },
     "execution_count": 6,
     "metadata": {},
     "output_type": "execute_result"
    }
   ],
   "source": [
    "#2. Define __str__ method in Employee class so that when someone tries to print the object the\n",
    "#string Name: employee_name, Salary: employee_salary is printed with the actual employee\n",
    "#name and salary.\n",
    "\n",
    "class Employee:\n",
    "    name = ''\n",
    "    salary = ''\n",
    "    \n",
    "    def __init__(self, name1, salary1):\n",
    "        self.name = name1\n",
    "        self.salary = salary1\n",
    "        \n",
    "    def __str__(self):\n",
    "        return 'Employee(name= ' + str(self.name) + ' ,salary= ' + self.salary + ')'\n",
    "    \n",
    "obj = Employee('Bhargav', '33000')\n",
    "obj.__str__()"
   ]
  },
  {
   "cell_type": "code",
   "execution_count": 9,
   "id": "76f28518",
   "metadata": {},
   "outputs": [
    {
     "data": {
      "text/plain": [
       "7"
      ]
     },
     "execution_count": 9,
     "metadata": {},
     "output_type": "execute_result"
    }
   ],
   "source": [
    "#3. Create another class named Calculator, with methods to add, subtract, multiply and divide two\n",
    "#numbers.\n",
    "\n",
    "class Calculator:\n",
    "    \n",
    "    def __init__(self,x,y):\n",
    "        self.x = x\n",
    "        self.y = y\n",
    "    \n",
    "    def addition(self):\n",
    "        return self.x+self.y\n",
    "\n",
    "    def substration(self):\n",
    "        return self.x - self.y\n",
    "\n",
    "    def multiplication(self):\n",
    "        return self.x * self.y\n",
    "\n",
    "    def division(self):\n",
    "        return self.x / self.y\n",
    "    \n",
    "obj = Calculator(3,4)\n",
    "obj.addition()\n",
    "# obj.substration()\n",
    "# obj.multiplication()\n",
    "# obj.division()"
   ]
  },
  {
   "cell_type": "code",
   "execution_count": 13,
   "id": "40879eab",
   "metadata": {},
   "outputs": [
    {
     "name": "stdout",
     "output_type": "stream",
     "text": [
      "Enter a number: 1\n",
      "Enter a number: 2\n"
     ]
    },
    {
     "data": {
      "text/plain": [
       "3"
      ]
     },
     "execution_count": 13,
     "metadata": {},
     "output_type": "execute_result"
    }
   ],
   "source": [
    "#4. These methods take two numbers as parameters\n",
    "def addition(x,y):\n",
    "    return x+y\n",
    "\n",
    "def substration(x,y):\n",
    "    return x - y\n",
    "\n",
    "def multiplication(x,y):\n",
    "    return x * y\n",
    "\n",
    "def division(x,y):\n",
    "    return x / y\n",
    "#5. These methods will be called by method named execute command.\n",
    "\n",
    "x = int(input(\"Enter a number: \"))\n",
    "y = int(input(\"Enter a number: \"))\n",
    "\n",
    "addition(x,y)"
   ]
  },
  {
   "cell_type": "code",
   "execution_count": 23,
   "id": "ed536634",
   "metadata": {},
   "outputs": [
    {
     "name": "stdout",
     "output_type": "stream",
     "text": [
      "Enter a method name from ['add','sub','mul',div]: add\n",
      "Enter a number: 1\n",
      "Enter a number: 2\n",
      "3\n"
     ]
    }
   ],
   "source": [
    "#6. Execute command takes in 3 parameters command which is string that can be either ‘add’, ‘sub’,\n",
    "#‘mul’, ‘div’, and two numbers and it will call the appropriate method based on command\n",
    "#parameter\n",
    "def addition(x,y):\n",
    "    return x+y\n",
    "\n",
    "def substration(x,y):\n",
    "    return x - y\n",
    "\n",
    "def multiplication(x,y):\n",
    "    return x * y\n",
    "\n",
    "def division(x,y):\n",
    "    return x / y\n",
    "\n",
    "method_name = str(input(\"Enter a method name from ['add','sub','mul',div]: \"))\n",
    "\n",
    "x = int(input(\"Enter a number: \"))\n",
    "y = int(input(\"Enter a number: \"))\n",
    "\n",
    "if method_name == 'add':\n",
    "   print(addition(x,y))\n",
    "if method_name == 'sub':\n",
    "   print(substration(x,y))\n",
    "if method_name == 'mul':\n",
    "   print(multiplication(x,y))\n",
    "if method_name == 'div':\n",
    "   print(division(x,y))"
   ]
  },
  {
   "cell_type": "code",
   "execution_count": null,
   "id": "cd3aa2df",
   "metadata": {},
   "outputs": [],
   "source": []
  }
 ],
 "metadata": {
  "kernelspec": {
   "display_name": "Python 3 (ipykernel)",
   "language": "python",
   "name": "python3"
  },
  "language_info": {
   "codemirror_mode": {
    "name": "ipython",
    "version": 3
   },
   "file_extension": ".py",
   "mimetype": "text/x-python",
   "name": "python",
   "nbconvert_exporter": "python",
   "pygments_lexer": "ipython3",
   "version": "3.9.7"
  }
 },
 "nbformat": 4,
 "nbformat_minor": 5
}

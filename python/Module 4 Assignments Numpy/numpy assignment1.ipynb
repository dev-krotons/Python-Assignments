{
 "cells": [
  {
   "cell_type": "code",
   "execution_count": 8,
   "id": "7bb1a98f",
   "metadata": {},
   "outputs": [
    {
     "name": "stdout",
     "output_type": "stream",
     "text": [
      "[10, 20, 30, 'apple', True, 8.1]\n",
      "[10, 20, 30, 'apple', True, 8.1, 30, 40]\n",
      "[40, 30, 8.1, True, 'apple', 30, 20, 10]\n"
     ]
    }
   ],
   "source": [
    "#Module2 Assgnment1 Data Structure Assignment\n",
    "\n",
    "#1. Create a list named ‘myList’ that is having the following elements: 10,20,30,’apple’, True, 8.10.\n",
    "\n",
    "myList = [10,20,30,'apple', True, 8.10]\n",
    "print(myList)\n",
    "\n",
    "#a. Now in the ‘myList’, append these values: 30,40\n",
    "myList.append(30)\n",
    "myList.append(40)\n",
    "\n",
    "print(myList)\n",
    "\n",
    "#b. After that reverse the elements of the ‘myList’ and store that in ‘reversedList’\n",
    "reversedList = myList[::-1]\n",
    "print(reversedList)"
   ]
  },
  {
   "cell_type": "code",
   "execution_count": 11,
   "id": "c5aef75f",
   "metadata": {},
   "outputs": [
    {
     "name": "stdout",
     "output_type": "stream",
     "text": [
      "{1: 'data', 2: 'information'}\n",
      "data\n"
     ]
    }
   ],
   "source": [
    "#2. Create a dictonary with key values as 1,2,3 and the values as ‘data’,’information’, and ‘text’.\n",
    "\n",
    "dict_data = {1: 'data', 2: 'information', 3: 'text'}\n",
    "\n",
    "#a. After that eliminate the ‘text’ value form the dictonary.\n",
    "dict_data.pop(3)\n",
    "print(dict_data)\n",
    "\n",
    "#b. Add ‘features’ in the dictonary.\n",
    "dict_data[3] = 'features'\n",
    "\n",
    "#c. Fetch the ‘data’ element from the dictonary and display it in the output.\n",
    "fetch_data = dict_data.get(1)\n",
    "print(fetch_data)"
   ]
  },
  {
   "cell_type": "code",
   "execution_count": 12,
   "id": "4d691730",
   "metadata": {},
   "outputs": [
    {
     "name": "stdout",
     "output_type": "stream",
     "text": [
      "(1, 2, 3, 'apple', 'mango')\n"
     ]
    }
   ],
   "source": [
    "#3. Create a tuple and add these elements 1,2,3,apple,mango in ‘my_tuple\n",
    "\n",
    "my_tuple = 1,2,3,'apple','mango'\n",
    "print(my_tuple)"
   ]
  },
  {
   "cell_type": "code",
   "execution_count": 15,
   "id": "f9221b26",
   "metadata": {},
   "outputs": [
    {
     "name": "stdout",
     "output_type": "stream",
     "text": [
      "10\n",
      "(10, 20, 30, 40, 50, 1, 2, 3, 'apple', 'mango')\n",
      "(1, 2, 3, 'apple', 'mango', 1, 2, 3, 'apple', 'mango')\n"
     ]
    }
   ],
   "source": [
    "#4. Create another tuple named numeric_tuple consisting of only integer values 10,20,30,40,50\n",
    "numeric_tuple = 10,20,30,40,50\n",
    "my_tuple = 1,2,3,'apple','mango'\n",
    "\n",
    "#a. Find the minimum value from the numeric_tuple.\n",
    "minimum = min(numeric_tuple)\n",
    "print(minimum)\n",
    "\n",
    "#b. Concatenate my_tuple with numeric_tuple and store the result in r1.\n",
    "r1 = numeric_tuple + my_tuple\n",
    "print(r1)\n",
    "\n",
    "#c. Duplicate the tuple named my_tuple 2 times and store that in ‘newdupli’.\n",
    "newdupli = 2 * my_tuple\n",
    "print(newdupli)"
   ]
  },
  {
   "cell_type": "code",
   "execution_count": 18,
   "id": "10373c0e",
   "metadata": {},
   "outputs": [
    {
     "name": "stdout",
     "output_type": "stream",
     "text": [
      "{1, 2, 3, 4, 5, 6, 7}\n",
      "{1, 2, 3}\n",
      "{4, 5}\n"
     ]
    }
   ],
   "source": [
    "#5. Create 2 sets with name set1 and set2, where set1 contains{1,2,3,4,5} and set2 to contains{2,3,7,6,1}\n",
    "set1 = {1,2,3,4,5}\n",
    "set2 = {2,3,7,6,1}\n",
    "\n",
    "#a. set1 union set2\n",
    "uni = set1.union(set2)\n",
    "print(uni)\n",
    "\n",
    "#b. set1 intersection set2\n",
    "inter = set1.intersection(set2)\n",
    "print(inter)\n",
    "\n",
    "#c. set1 difference set2\n",
    "diff = set1.difference(set2)\n",
    "print(diff)"
   ]
  },
  {
   "cell_type": "code",
   "execution_count": null,
   "id": "54e84168",
   "metadata": {},
   "outputs": [],
   "source": []
  }
 ],
 "metadata": {
  "kernelspec": {
   "display_name": "Python 3 (ipykernel)",
   "language": "python",
   "name": "python3"
  },
  "language_info": {
   "codemirror_mode": {
    "name": "ipython",
    "version": 3
   },
   "file_extension": ".py",
   "mimetype": "text/x-python",
   "name": "python",
   "nbconvert_exporter": "python",
   "pygments_lexer": "ipython3",
   "version": "3.9.7"
  }
 },
 "nbformat": 4,
 "nbformat_minor": 5
}

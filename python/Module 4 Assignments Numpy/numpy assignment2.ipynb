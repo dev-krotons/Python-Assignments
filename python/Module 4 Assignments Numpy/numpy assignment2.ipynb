{
 "cells": [
  {
   "cell_type": "code",
   "execution_count": 5,
   "id": "29481d8b",
   "metadata": {},
   "outputs": [
    {
     "name": "stdout",
     "output_type": "stream",
     "text": [
      "[[ 2  3  4]\n",
      " [ 5  6  7]\n",
      " [ 8  9 10]]\n"
     ]
    }
   ],
   "source": [
    "#Numpy Assignment\n",
    "import numpy as np\n",
    "\n",
    "#1. Create a 3x3 matrix array with values ranging from 2 to 10.\n",
    "\n",
    "m = np.arange(2, 11, 1)\n",
    "m = m.reshape(3,3)\n",
    "print(m)"
   ]
  },
  {
   "cell_type": "code",
   "execution_count": 9,
   "id": "10881222",
   "metadata": {},
   "outputs": [
    {
     "name": "stdout",
     "output_type": "stream",
     "text": [
      "Size of array:3\n",
      "Element:1\n",
      "Element:2\n",
      "Element:3\n",
      "[1. 2. 3.]\n"
     ]
    }
   ],
   "source": [
    "#2. Create a numpy array having user input values and convert the integer type to the float type of the elements of the array. For instance:\n",
    "#Original array\n",
    "#[1, 2, 3, 4]\n",
    "#Array converted to a float type:\n",
    "#[ 1. 2. 3. 4.]\n",
    "import numpy as np\n",
    "my_array = []\n",
    "a = int(input(\"Size of array:\"))\n",
    "for i in range(a):\n",
    "    my_array.append(float(input(\"Element:\")))\n",
    "my_array = np.array(my_array)\n",
    "print(np.floor(my_array))"
   ]
  },
  {
   "cell_type": "code",
   "execution_count": 11,
   "id": "72160aa7",
   "metadata": {},
   "outputs": [
    {
     "name": "stdout",
     "output_type": "stream",
     "text": [
      "[10 20 30 40 50 60 70 80 90]\n"
     ]
    }
   ],
   "source": [
    "#3. Write a Numpy program to append values to the end of an array. For instance:\n",
    "#Original array:\n",
    "#[10, 20, 30]\n",
    "#After append values to the end of the array:\n",
    "#[10 20 30 40 50 60 70 80 90]\n",
    "\n",
    "original = [10,20,30]\n",
    "after = [40,50,60,70,80,90]\n",
    "appended = np.append(original,after)\n",
    "print(appended)"
   ]
  },
  {
   "cell_type": "code",
   "execution_count": 13,
   "id": "3a858608",
   "metadata": {},
   "outputs": [
    {
     "name": "stdout",
     "output_type": "stream",
     "text": [
      "[ 0  1  2  3  4  8  9 10 11]\n"
     ]
    }
   ],
   "source": [
    "#4. Create two numpy arrays and add the elements of both the arrays and store the result in \n",
    "#sumArray.\n",
    "\n",
    "arr1 = np.arange(5)\n",
    "arr2 = np.arange(8, 12)\n",
    "sumArray = np.concatenate((arr1, arr2))\n",
    "print(sumArray)"
   ]
  },
  {
   "cell_type": "code",
   "execution_count": 18,
   "id": "fe528c23",
   "metadata": {},
   "outputs": [
    {
     "name": "stdout",
     "output_type": "stream",
     "text": [
      "[[10 20 30]\n",
      " [40 50 60]\n",
      " [70 80 90]]\n",
      "[10 20 30]\n",
      "[70 80 90]\n"
     ]
    }
   ],
   "source": [
    "#5. Create a 3*3 array having values from 10-90(interval of 10) and store that in array1. Perform \n",
    "#the following tasks:\n",
    "\n",
    "m = np.arange(10, 91, 10)\n",
    "m = m.reshape(3,3)\n",
    "print(m)\n",
    "\n",
    "#a. Extract the 1st row from the array.\n",
    "\n",
    "print(m[0])\n",
    "\n",
    "#b. Extract the last element from the array.\n",
    "\n",
    "print(m[-1])"
   ]
  }
 ],
 "metadata": {
  "kernelspec": {
   "display_name": "Python 3 (ipykernel)",
   "language": "python",
   "name": "python3"
  },
  "language_info": {
   "codemirror_mode": {
    "name": "ipython",
    "version": 3
   },
   "file_extension": ".py",
   "mimetype": "text/x-python",
   "name": "python",
   "nbconvert_exporter": "python",
   "pygments_lexer": "ipython3",
   "version": "3.9.7"
  }
 },
 "nbformat": 4,
 "nbformat_minor": 5
}

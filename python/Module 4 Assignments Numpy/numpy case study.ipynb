{
 "cells": [
  {
   "cell_type": "code",
   "execution_count": 4,
   "id": "0acadea9",
   "metadata": {},
   "outputs": [
    {
     "name": "stdout",
     "output_type": "stream",
     "text": [
      "Enter a row number: 3\n",
      "Enter a col number: 6\n",
      "Enter a element number: 565\n",
      "[[565 565 565 565 565 565]\n",
      " [565 565 565 565 565 565]\n",
      " [565 565 565 565 565 565]]\n"
     ]
    }
   ],
   "source": [
    "#Numpy Assignment 2\n",
    "\n",
    "#Create a function that takes dimensions as tuples e.g.(3, 3) and a numeric value and returns a \n",
    "#Numpy array of the given dimension filled with the given value e.g.: solve((3, 3), 5) will return \n",
    "#[\n",
    "# [5, 5, 5],\n",
    "# [5, 5, 5],\n",
    "# [5, 5, 5]\n",
    "#]\n",
    "import numpy as np\n",
    "\n",
    "def create_array(row, col, element):\n",
    "    array = np.full((row, col), element)\n",
    "    print(array)\n",
    "    \n",
    "row = int(input(\"Enter a row number: \"))\n",
    "col = int(input(\"Enter a col number: \"))\n",
    "element = int(input(\"Enter a element number: \"))\n",
    "\n",
    "create_array(row, col, element)"
   ]
  },
  {
   "cell_type": "code",
   "execution_count": 5,
   "id": "1d6f4275",
   "metadata": {},
   "outputs": [
    {
     "data": {
      "text/plain": [
       "array([ 6,  8, 10])"
      ]
     },
     "execution_count": 5,
     "metadata": {},
     "output_type": "execute_result"
    }
   ],
   "source": [
    "#2. Create a method that takes n Numpy arrays of same dimensions sums them and return the \n",
    "#answer.\n",
    "\n",
    "import numpy as np\n",
    "\n",
    "def numpy_array(arr1, arr2):\n",
    "    my_array_sum = np.add(arr1, arr2)\n",
    "    return my_array_sum\n",
    "    \n",
    "arr1 = np.array([1,2,3])\n",
    "arr2 = np.array([5,6,7])\n",
    "\n",
    "numpy_array(arr1, arr2)"
   ]
  },
  {
   "cell_type": "code",
   "execution_count": 13,
   "id": "4df2feff",
   "metadata": {},
   "outputs": [
    {
     "name": "stdout",
     "output_type": "stream",
     "text": [
      "enter a n: 2\n",
      "enter a m: 2\n",
      "[[1 2]\n",
      " [4 5]]\n"
     ]
    }
   ],
   "source": [
    "#3. Given a 2 D Array of N X M Dimension, Write a function that accepts this array as well as two \n",
    "#numbers N and M. The method should return the top-left N X M sub matrix e.g:\n",
    "# [\n",
    "# [1, 2, 3],\n",
    "# [4, 5, 6],\n",
    "# [7, 8, 9],\n",
    "# ]\n",
    "#top_left_sub_matrix (matrix, 2, 2) -> should return:\n",
    "# [\n",
    "# [1, 2]\n",
    "# [4, 5]\n",
    "# ]\n",
    "\n",
    "import numpy as np\n",
    "\n",
    "def top_left_sub_matrix(mat,n,m):\n",
    "    mat_slice = mat[:n,:m]\n",
    "    print(mat_slice)\n",
    "\n",
    "mat = np.array([[1,2,3],[4,5,6],[7,8,9]])\n",
    "n = int(input(\"enter a n: \"))\n",
    "m = int(input(\"enter a m: \"))\n",
    "top_left_sub_matrix(mat,n,m)"
   ]
  },
  {
   "cell_type": "code",
   "execution_count": 17,
   "id": "60868abd",
   "metadata": {},
   "outputs": [
    {
     "name": "stdout",
     "output_type": "stream",
     "text": [
      "enter a n: 1\n",
      "enter a m: 1\n",
      "[[5 6]\n",
      " [8 9]]\n"
     ]
    }
   ],
   "source": [
    "#4. Given a 2 D Array of N X M Dimension, Write a function that accepts this array as well as two \n",
    "#numbers N and M The method should return the bottom-right N X M sub matrix e.g.:\n",
    "# [\n",
    "# [1, 2, 3],\n",
    "# [4, 5, 6],\n",
    "# [7, 8, 9],\n",
    "# ]\n",
    "#sub_matrix(matrix, 1, 1) -> should return : (Keep in mind these arrays are zero indexed)\n",
    "# [\n",
    "# [5, 6]\n",
    "# [8, 9]\n",
    "# ]\n",
    "\n",
    "import numpy as np\n",
    "\n",
    "def sub_matrix(mat,n,m):\n",
    "    mat_slice = mat[n:,m:]\n",
    "    print(mat_slice)\n",
    "\n",
    "mat = np.array([[1,2,3],[4,5,6],[7,8,9]])\n",
    "n = int(input(\"enter a n: \"))\n",
    "m = int(input(\"enter a m: \"))\n",
    "sub_matrix(mat,n,m)"
   ]
  },
  {
   "cell_type": "code",
   "execution_count": 19,
   "id": "db047fa1",
   "metadata": {},
   "outputs": [
    {
     "data": {
      "text/plain": [
       "{'mean': 1.0, 'std_dev': 0.0}"
      ]
     },
     "execution_count": 19,
     "metadata": {},
     "output_type": "execute_result"
    }
   ],
   "source": [
    "#5. Given a 1 D Numpy Array. Write a function that accepts this array as parameters. The method \n",
    "#should return a dictionary with 'mean' and 'std_dev' as key and array's mean and array's \n",
    "#standard deviation as values:\n",
    "# [1, 1, 1]\n",
    "#solution(arr) -> should return :\n",
    "# {'mean': 1.0, 'std_dev': 0.0}\n",
    "import numpy as np\n",
    "\n",
    "def solution(mat):\n",
    "    dict_ex = {}\n",
    "    mean = np.mean(mat)\n",
    "    std_dev = np.std(mat)\n",
    "    dict_ex['mean'] = mean\n",
    "    dict_ex['std_dev'] = std_dev\n",
    "    return dict_ex\n",
    "\n",
    "mat = np.array([[1,1,1]])\n",
    "solution(mat)"
   ]
  }
 ],
 "metadata": {
  "kernelspec": {
   "display_name": "Python 3 (ipykernel)",
   "language": "python",
   "name": "python3"
  },
  "language_info": {
   "codemirror_mode": {
    "name": "ipython",
    "version": 3
   },
   "file_extension": ".py",
   "mimetype": "text/x-python",
   "name": "python",
   "nbconvert_exporter": "python",
   "pygments_lexer": "ipython3",
   "version": "3.9.7"
  }
 },
 "nbformat": 4,
 "nbformat_minor": 5
}

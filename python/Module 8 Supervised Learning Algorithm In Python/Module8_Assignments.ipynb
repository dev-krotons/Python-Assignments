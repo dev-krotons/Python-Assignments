{
  "cells": [
    {
      "cell_type": "code",
      "execution_count": null,
      "id": "4d3d4cad",
      "metadata": {
        "id": "4d3d4cad"
      },
      "outputs": [],
      "source": [
        "#Agenda\n",
        "#implementation of Linear,Logistic,Decision Tree, Random Forest"
      ]
    },
    {
      "cell_type": "markdown",
      "id": "56a8966c",
      "metadata": {
        "id": "56a8966c"
      },
      "source": [
        "# Linear Regression Part"
      ]
    },
    {
      "cell_type": "code",
      "execution_count": null,
      "id": "d2a8d277",
      "metadata": {
        "id": "d2a8d277"
      },
      "outputs": [],
      "source": [
        "#1. Load the dataset using pandas\n",
        "# 2. Extract data fromYearsExperience column is a variable named X\n",
        "# 3. Extract data from salary column is a variable named Y\n",
        "# 4. Divide the dataset into two parts for training and testing in 66% and 33% proportion\n",
        "# 5. Create and train LinearRegression Model on training set\n",
        "# 6. Make predictions based on the testing set using the trained model\n",
        "# 7. Check the performance by calculating the r2 score of the model"
      ]
    },
    {
      "cell_type": "code",
      "execution_count": null,
      "id": "3a11098e",
      "metadata": {
        "id": "3a11098e"
      },
      "outputs": [],
      "source": [
        "#1. Load the dataset using pandas\n",
        "import numpy as np\n",
        "import pandas as pd"
      ]
    },
    {
      "cell_type": "code",
      "execution_count": null,
      "id": "32363ae2",
      "metadata": {
        "id": "32363ae2",
        "outputId": "c61471e1-7fb2-40e3-cfbf-091c9dc0a008"
      },
      "outputs": [
        {
          "data": {
            "text/html": [
              "<div>\n",
              "<style scoped>\n",
              "    .dataframe tbody tr th:only-of-type {\n",
              "        vertical-align: middle;\n",
              "    }\n",
              "\n",
              "    .dataframe tbody tr th {\n",
              "        vertical-align: top;\n",
              "    }\n",
              "\n",
              "    .dataframe thead th {\n",
              "        text-align: right;\n",
              "    }\n",
              "</style>\n",
              "<table border=\"1\" class=\"dataframe\">\n",
              "  <thead>\n",
              "    <tr style=\"text-align: right;\">\n",
              "      <th></th>\n",
              "      <th>YearsExperience</th>\n",
              "      <th>Salary</th>\n",
              "    </tr>\n",
              "  </thead>\n",
              "  <tbody>\n",
              "    <tr>\n",
              "      <th>0</th>\n",
              "      <td>1.1</td>\n",
              "      <td>39343.0</td>\n",
              "    </tr>\n",
              "    <tr>\n",
              "      <th>1</th>\n",
              "      <td>1.3</td>\n",
              "      <td>46205.0</td>\n",
              "    </tr>\n",
              "    <tr>\n",
              "      <th>2</th>\n",
              "      <td>1.5</td>\n",
              "      <td>37731.0</td>\n",
              "    </tr>\n",
              "    <tr>\n",
              "      <th>3</th>\n",
              "      <td>2.0</td>\n",
              "      <td>43525.0</td>\n",
              "    </tr>\n",
              "    <tr>\n",
              "      <th>4</th>\n",
              "      <td>2.2</td>\n",
              "      <td>39891.0</td>\n",
              "    </tr>\n",
              "  </tbody>\n",
              "</table>\n",
              "</div>"
            ],
            "text/plain": [
              "   YearsExperience   Salary\n",
              "0              1.1  39343.0\n",
              "1              1.3  46205.0\n",
              "2              1.5  37731.0\n",
              "3              2.0  43525.0\n",
              "4              2.2  39891.0"
            ]
          },
          "execution_count": 5,
          "metadata": {},
          "output_type": "execute_result"
        }
      ],
      "source": [
        "dataset = pd.read_csv('data.csv')\n",
        "dataset.head()"
      ]
    },
    {
      "cell_type": "code",
      "execution_count": null,
      "id": "52c52d6f",
      "metadata": {
        "id": "52c52d6f"
      },
      "outputs": [],
      "source": [
        "#2. Extract data fromYearsExperience column is a variable named X\n",
        "X = dataset.iloc[:,:-1]"
      ]
    },
    {
      "cell_type": "code",
      "execution_count": null,
      "id": "201e7427",
      "metadata": {
        "id": "201e7427"
      },
      "outputs": [],
      "source": [
        "#3. Extract data from salary column is a variable named Y\n",
        "Y = dataset.iloc[:,-1]"
      ]
    },
    {
      "cell_type": "code",
      "execution_count": null,
      "id": "b9754057",
      "metadata": {
        "id": "b9754057"
      },
      "outputs": [],
      "source": [
        "#4. Divide the dataset into two parts for training and testing in 66% and 33% proportion\n",
        "from sklearn.model_selection import train_test_split\n",
        "\n",
        "X_train,X_test,Y_train,Y_test = train_test_split(X,Y,test_size = 0.3,random_state = 1) "
      ]
    },
    {
      "cell_type": "code",
      "execution_count": null,
      "id": "a955dfba",
      "metadata": {
        "id": "a955dfba",
        "outputId": "03d6ae28-62fe-4ecc-af37-77b6d126e143"
      },
      "outputs": [
        {
          "data": {
            "text/plain": [
              "LinearRegression()"
            ]
          },
          "execution_count": 22,
          "metadata": {},
          "output_type": "execute_result"
        }
      ],
      "source": [
        "#5. Create and train LinearRegression Model on training set\n",
        "from sklearn.linear_model import LinearRegression\n",
        "lin = LinearRegression()\n",
        "lin.fit(X_train,Y_train)"
      ]
    },
    {
      "cell_type": "code",
      "execution_count": null,
      "id": "66596110",
      "metadata": {
        "id": "66596110"
      },
      "outputs": [],
      "source": [
        "#6. Make predictions based on the testing set using the trained model\n",
        "lin_pred = lin.predict(X_test)\n",
        "#7. Check the performance by calculating the r2 score of the model"
      ]
    },
    {
      "cell_type": "markdown",
      "id": "7e1907be",
      "metadata": {
        "id": "7e1907be"
      },
      "source": [
        "# Logistic Regression Part"
      ]
    },
    {
      "cell_type": "code",
      "execution_count": null,
      "id": "a8eb03cf",
      "metadata": {
        "id": "a8eb03cf"
      },
      "outputs": [],
      "source": [
        "# #1. Load the dataset using pandas\n",
        "# 2. Extract data fromOutcome column is a variable named Y\n",
        "# 3. Extract data from every column except Outcome column in a variable named X\n",
        "# 4. Divide the dataset into two parts for training and testing in 70% and 30% proportion\n",
        "# 5. Create and train Logistic Regression Model on training set\n",
        "# 6. Make predictions based on the testing set using the trained model\n",
        "# 7. Check the performance by calculating the confusion matrix and accuracy score of the model "
      ]
    },
    {
      "cell_type": "code",
      "execution_count": null,
      "id": "be211fa0",
      "metadata": {
        "id": "be211fa0",
        "outputId": "11a7b8b3-028d-4a16-a328-32091ed7e344"
      },
      "outputs": [
        {
          "data": {
            "text/html": [
              "<div>\n",
              "<style scoped>\n",
              "    .dataframe tbody tr th:only-of-type {\n",
              "        vertical-align: middle;\n",
              "    }\n",
              "\n",
              "    .dataframe tbody tr th {\n",
              "        vertical-align: top;\n",
              "    }\n",
              "\n",
              "    .dataframe thead th {\n",
              "        text-align: right;\n",
              "    }\n",
              "</style>\n",
              "<table border=\"1\" class=\"dataframe\">\n",
              "  <thead>\n",
              "    <tr style=\"text-align: right;\">\n",
              "      <th></th>\n",
              "      <th>Pregnancies</th>\n",
              "      <th>Glucose</th>\n",
              "      <th>BloodPressure</th>\n",
              "      <th>SkinThickness</th>\n",
              "      <th>Insulin</th>\n",
              "      <th>BMI</th>\n",
              "      <th>DiabetesPedigreeFunction</th>\n",
              "      <th>Age</th>\n",
              "      <th>Outcome</th>\n",
              "    </tr>\n",
              "  </thead>\n",
              "  <tbody>\n",
              "    <tr>\n",
              "      <th>0</th>\n",
              "      <td>6</td>\n",
              "      <td>148</td>\n",
              "      <td>72</td>\n",
              "      <td>35</td>\n",
              "      <td>0</td>\n",
              "      <td>33.6</td>\n",
              "      <td>0.627</td>\n",
              "      <td>50</td>\n",
              "      <td>1</td>\n",
              "    </tr>\n",
              "    <tr>\n",
              "      <th>1</th>\n",
              "      <td>1</td>\n",
              "      <td>85</td>\n",
              "      <td>66</td>\n",
              "      <td>29</td>\n",
              "      <td>0</td>\n",
              "      <td>26.6</td>\n",
              "      <td>0.351</td>\n",
              "      <td>31</td>\n",
              "      <td>0</td>\n",
              "    </tr>\n",
              "    <tr>\n",
              "      <th>2</th>\n",
              "      <td>8</td>\n",
              "      <td>183</td>\n",
              "      <td>64</td>\n",
              "      <td>0</td>\n",
              "      <td>0</td>\n",
              "      <td>23.3</td>\n",
              "      <td>0.672</td>\n",
              "      <td>32</td>\n",
              "      <td>1</td>\n",
              "    </tr>\n",
              "    <tr>\n",
              "      <th>3</th>\n",
              "      <td>1</td>\n",
              "      <td>89</td>\n",
              "      <td>66</td>\n",
              "      <td>23</td>\n",
              "      <td>94</td>\n",
              "      <td>28.1</td>\n",
              "      <td>0.167</td>\n",
              "      <td>21</td>\n",
              "      <td>0</td>\n",
              "    </tr>\n",
              "    <tr>\n",
              "      <th>4</th>\n",
              "      <td>0</td>\n",
              "      <td>137</td>\n",
              "      <td>40</td>\n",
              "      <td>35</td>\n",
              "      <td>168</td>\n",
              "      <td>43.1</td>\n",
              "      <td>2.288</td>\n",
              "      <td>33</td>\n",
              "      <td>1</td>\n",
              "    </tr>\n",
              "  </tbody>\n",
              "</table>\n",
              "</div>"
            ],
            "text/plain": [
              "   Pregnancies  Glucose  BloodPressure  SkinThickness  Insulin   BMI  \\\n",
              "0            6      148             72             35        0  33.6   \n",
              "1            1       85             66             29        0  26.6   \n",
              "2            8      183             64              0        0  23.3   \n",
              "3            1       89             66             23       94  28.1   \n",
              "4            0      137             40             35      168  43.1   \n",
              "\n",
              "   DiabetesPedigreeFunction  Age  Outcome  \n",
              "0                     0.627   50        1  \n",
              "1                     0.351   31        0  \n",
              "2                     0.672   32        1  \n",
              "3                     0.167   21        0  \n",
              "4                     2.288   33        1  "
            ]
          },
          "execution_count": 27,
          "metadata": {},
          "output_type": "execute_result"
        }
      ],
      "source": [
        "#1. Load the dataset using pandas\n",
        "dd = pd.read_csv('diabetes.csv')\n",
        "dd.head()"
      ]
    },
    {
      "cell_type": "code",
      "execution_count": null,
      "id": "1d5b5a20",
      "metadata": {
        "id": "1d5b5a20"
      },
      "outputs": [],
      "source": [
        "#2. Extract data fromOutcome column is a variable named Y\n",
        "Y = dd.iloc[:,-1]"
      ]
    },
    {
      "cell_type": "code",
      "execution_count": null,
      "id": "97a70dba",
      "metadata": {
        "id": "97a70dba"
      },
      "outputs": [],
      "source": [
        "#3. Extract data from every column except Outcome column in a variable named X\n",
        "X = dd.iloc[:,:-1]"
      ]
    },
    {
      "cell_type": "code",
      "execution_count": null,
      "id": "707f5200",
      "metadata": {
        "id": "707f5200"
      },
      "outputs": [],
      "source": [
        "#4. Divide the dataset into two parts for training and testing in 70% and 30% proportion\n",
        "#from sklearn.model_selection import train_test_split\n",
        "X_train,X_test,Y_train,Y_test = train_test_split(X,Y,test_size = 0.3,random_state = 1)"
      ]
    },
    {
      "cell_type": "code",
      "execution_count": null,
      "id": "f1781759",
      "metadata": {
        "id": "f1781759",
        "outputId": "f64f0807-578f-4ece-e0d1-ccc6eec7e644"
      },
      "outputs": [
        {
          "data": {
            "text/plain": [
              "LogisticRegression()"
            ]
          },
          "execution_count": 36,
          "metadata": {},
          "output_type": "execute_result"
        }
      ],
      "source": [
        "#5. Create and train Logistic Regression Model on training set\n",
        "from sklearn.linear_model import LogisticRegression\n",
        "logmodel = LogisticRegression()\n",
        "logmodel.fit(X_train,Y_train)"
      ]
    },
    {
      "cell_type": "code",
      "execution_count": null,
      "id": "c66b3ff9",
      "metadata": {
        "id": "c66b3ff9"
      },
      "outputs": [],
      "source": [
        "#6. Make predictions based on the testing set using the trained model\n",
        "Y_pred = logmodel.predict(X_test)"
      ]
    },
    {
      "cell_type": "code",
      "execution_count": null,
      "id": "641ae7b0",
      "metadata": {
        "id": "641ae7b0",
        "outputId": "57fac445-a5db-425a-e2bb-5db61768deeb"
      },
      "outputs": [
        {
          "data": {
            "text/plain": [
              "array([[132,  36],\n",
              "       [ 14,  49]], dtype=int64)"
            ]
          },
          "execution_count": 41,
          "metadata": {},
          "output_type": "execute_result"
        }
      ],
      "source": [
        "#7. Check the performance by calculating the confusion matrix and accuracy score of the model \n",
        "from sklearn.metrics import confusion_matrix,accuracy_score\n",
        "result = confusion_matrix(Y_pred,Y_test)\n",
        "result"
      ]
    },
    {
      "cell_type": "code",
      "execution_count": null,
      "id": "276091aa",
      "metadata": {
        "id": "276091aa",
        "outputId": "48d82bd9-37d8-4a11-cf16-31247b6721dd"
      },
      "outputs": [
        {
          "data": {
            "text/plain": [
              "0.7835497835497836"
            ]
          },
          "execution_count": 43,
          "metadata": {},
          "output_type": "execute_result"
        }
      ],
      "source": [
        "acc = accuracy_score(Y_pred,Y_test)\n",
        "acc"
      ]
    },
    {
      "cell_type": "code",
      "execution_count": null,
      "id": "5c74625e",
      "metadata": {
        "id": "5c74625e",
        "outputId": "0bfb7922-1ea8-4cdb-e34a-3e39cfebbd93"
      },
      "outputs": [
        {
          "name": "stdout",
          "output_type": "stream",
          "text": [
            "181\n",
            "231\n",
            "78.35497835497836\n"
          ]
        }
      ],
      "source": [
        "print(132 + 49)\n",
        "print(132+ 36 + 14 + 49)\n",
        "print(((132+49)/(132+ 36 + 14 + 49))*100)"
      ]
    },
    {
      "cell_type": "markdown",
      "id": "56af58bf",
      "metadata": {
        "id": "56af58bf"
      },
      "source": [
        "# Decision Tree Part"
      ]
    },
    {
      "cell_type": "code",
      "execution_count": null,
      "id": "dec26fb7",
      "metadata": {
        "id": "dec26fb7"
      },
      "outputs": [],
      "source": [
        "# 1. Load the dataset using pandas\n",
        "# 2. Extract data fromOutcome column is a variable named Y\n",
        "# 3. Extract data from every column except Outcome column in a variable named X\n",
        "# 4. Divide the dataset into two parts for training and testing in 70% and 30% proportion\n",
        "# 5. Create and train Decision Tree Model on training set\n",
        "# 6. Make predictions based on the testing set using the trained model\n",
        "# 7. Check the performance by calculating the confusion matrix and accuracy score of the model "
      ]
    },
    {
      "cell_type": "code",
      "execution_count": null,
      "id": "7047a736",
      "metadata": {
        "id": "7047a736",
        "outputId": "324f9811-07a2-47be-d9aa-dd2c0755388e"
      },
      "outputs": [
        {
          "data": {
            "text/html": [
              "<div>\n",
              "<style scoped>\n",
              "    .dataframe tbody tr th:only-of-type {\n",
              "        vertical-align: middle;\n",
              "    }\n",
              "\n",
              "    .dataframe tbody tr th {\n",
              "        vertical-align: top;\n",
              "    }\n",
              "\n",
              "    .dataframe thead th {\n",
              "        text-align: right;\n",
              "    }\n",
              "</style>\n",
              "<table border=\"1\" class=\"dataframe\">\n",
              "  <thead>\n",
              "    <tr style=\"text-align: right;\">\n",
              "      <th></th>\n",
              "      <th>Pregnancies</th>\n",
              "      <th>Glucose</th>\n",
              "      <th>BloodPressure</th>\n",
              "      <th>SkinThickness</th>\n",
              "      <th>Insulin</th>\n",
              "      <th>BMI</th>\n",
              "      <th>DiabetesPedigreeFunction</th>\n",
              "      <th>Age</th>\n",
              "      <th>Outcome</th>\n",
              "    </tr>\n",
              "  </thead>\n",
              "  <tbody>\n",
              "    <tr>\n",
              "      <th>0</th>\n",
              "      <td>6</td>\n",
              "      <td>148</td>\n",
              "      <td>72</td>\n",
              "      <td>35</td>\n",
              "      <td>0</td>\n",
              "      <td>33.6</td>\n",
              "      <td>0.627</td>\n",
              "      <td>50</td>\n",
              "      <td>1</td>\n",
              "    </tr>\n",
              "    <tr>\n",
              "      <th>1</th>\n",
              "      <td>1</td>\n",
              "      <td>85</td>\n",
              "      <td>66</td>\n",
              "      <td>29</td>\n",
              "      <td>0</td>\n",
              "      <td>26.6</td>\n",
              "      <td>0.351</td>\n",
              "      <td>31</td>\n",
              "      <td>0</td>\n",
              "    </tr>\n",
              "    <tr>\n",
              "      <th>2</th>\n",
              "      <td>8</td>\n",
              "      <td>183</td>\n",
              "      <td>64</td>\n",
              "      <td>0</td>\n",
              "      <td>0</td>\n",
              "      <td>23.3</td>\n",
              "      <td>0.672</td>\n",
              "      <td>32</td>\n",
              "      <td>1</td>\n",
              "    </tr>\n",
              "    <tr>\n",
              "      <th>3</th>\n",
              "      <td>1</td>\n",
              "      <td>89</td>\n",
              "      <td>66</td>\n",
              "      <td>23</td>\n",
              "      <td>94</td>\n",
              "      <td>28.1</td>\n",
              "      <td>0.167</td>\n",
              "      <td>21</td>\n",
              "      <td>0</td>\n",
              "    </tr>\n",
              "    <tr>\n",
              "      <th>4</th>\n",
              "      <td>0</td>\n",
              "      <td>137</td>\n",
              "      <td>40</td>\n",
              "      <td>35</td>\n",
              "      <td>168</td>\n",
              "      <td>43.1</td>\n",
              "      <td>2.288</td>\n",
              "      <td>33</td>\n",
              "      <td>1</td>\n",
              "    </tr>\n",
              "  </tbody>\n",
              "</table>\n",
              "</div>"
            ],
            "text/plain": [
              "   Pregnancies  Glucose  BloodPressure  SkinThickness  Insulin   BMI  \\\n",
              "0            6      148             72             35        0  33.6   \n",
              "1            1       85             66             29        0  26.6   \n",
              "2            8      183             64              0        0  23.3   \n",
              "3            1       89             66             23       94  28.1   \n",
              "4            0      137             40             35      168  43.1   \n",
              "\n",
              "   DiabetesPedigreeFunction  Age  Outcome  \n",
              "0                     0.627   50        1  \n",
              "1                     0.351   31        0  \n",
              "2                     0.672   32        1  \n",
              "3                     0.167   21        0  \n",
              "4                     2.288   33        1  "
            ]
          },
          "execution_count": 51,
          "metadata": {},
          "output_type": "execute_result"
        }
      ],
      "source": [
        "#1. Load the dataset using pandas\n",
        "data = pd.read_csv('diabetes.csv')\n",
        "data.head()"
      ]
    },
    {
      "cell_type": "code",
      "execution_count": null,
      "id": "b47bc162",
      "metadata": {
        "id": "b47bc162"
      },
      "outputs": [],
      "source": [
        "#2. Extract data fromOutcome column is a variable named Y\n",
        "Y = data.iloc[:,-1]"
      ]
    },
    {
      "cell_type": "code",
      "execution_count": null,
      "id": "b15a8e48",
      "metadata": {
        "id": "b15a8e48"
      },
      "outputs": [],
      "source": [
        "#3. Extract data from every column except Outcome column in a variable named X\n",
        "X = data.iloc[:,:-1]"
      ]
    },
    {
      "cell_type": "code",
      "execution_count": null,
      "id": "35532403",
      "metadata": {
        "id": "35532403"
      },
      "outputs": [],
      "source": [
        "#4. Divide the dataset into two parts for training and testing in 70% and 30% proportion\n",
        "#from sklearn.model_selection import train_test_split\n",
        "X_train,X_test,Y_train,Y_test = train_test_split(X,Y,test_size = 0.3,random_state = 1)"
      ]
    },
    {
      "cell_type": "code",
      "execution_count": null,
      "id": "e3a52690",
      "metadata": {
        "id": "e3a52690",
        "outputId": "b232b3fe-ff08-4703-fa7a-b5e6f3a3fa4b"
      },
      "outputs": [
        {
          "data": {
            "text/plain": [
              "DecisionTreeClassifier()"
            ]
          },
          "execution_count": 60,
          "metadata": {},
          "output_type": "execute_result"
        }
      ],
      "source": [
        "#5. Create and train Decision Tree Model on training set\n",
        "from sklearn.tree import DecisionTreeClassifier\n",
        "cls = DecisionTreeClassifier()\n",
        "cls.fit(X_train,Y_train)"
      ]
    },
    {
      "cell_type": "code",
      "execution_count": null,
      "id": "4172555c",
      "metadata": {
        "id": "4172555c"
      },
      "outputs": [],
      "source": [
        "#6. Make predictions based on the testing set using the trained model\n",
        "Y_pred = cls.predict(X_test)"
      ]
    },
    {
      "cell_type": "code",
      "execution_count": null,
      "id": "8d1efb66",
      "metadata": {
        "id": "8d1efb66",
        "outputId": "c75417fb-7d81-42c1-de34-618f4fd42ec9"
      },
      "outputs": [
        {
          "data": {
            "text/plain": [
              "array([[116,  42],\n",
              "       [ 30,  43]], dtype=int64)"
            ]
          },
          "execution_count": 65,
          "metadata": {},
          "output_type": "execute_result"
        }
      ],
      "source": [
        "#7. Check the performance by calculating the confusion matrix and accuracy score of the model\n",
        "#from sklearn.metrics import confusion_matrix,accuracy_score\n",
        "results = confusion_matrix(Y_pred,Y_test)\n",
        "results"
      ]
    },
    {
      "cell_type": "code",
      "execution_count": null,
      "id": "65704a8f",
      "metadata": {
        "id": "65704a8f",
        "outputId": "e7abc004-3056-42f0-9ad4-68275a914488"
      },
      "outputs": [
        {
          "data": {
            "text/plain": [
              "0.6883116883116883"
            ]
          },
          "execution_count": 66,
          "metadata": {},
          "output_type": "execute_result"
        }
      ],
      "source": [
        "acc = accuracy_score(Y_pred,Y_test)\n",
        "acc"
      ]
    },
    {
      "cell_type": "code",
      "execution_count": null,
      "id": "f49ba495",
      "metadata": {
        "id": "f49ba495",
        "outputId": "30293220-51ed-4576-b6e2-49eece399b25"
      },
      "outputs": [
        {
          "name": "stdout",
          "output_type": "stream",
          "text": [
            "0.6883116883116883\n"
          ]
        }
      ],
      "source": [
        "print((116+43)/(116+42+30+43))"
      ]
    },
    {
      "cell_type": "markdown",
      "id": "885b8e06",
      "metadata": {
        "id": "885b8e06"
      },
      "source": [
        "# Random Forest Part"
      ]
    },
    {
      "cell_type": "code",
      "execution_count": null,
      "id": "bb218275",
      "metadata": {
        "id": "bb218275"
      },
      "outputs": [],
      "source": [
        "# 1. Load the dataset using pandas\n",
        "# 2. Extract data fromOutcome column is a variable named Y\n",
        "# 3. Extract data from every column except Outcome column in a variable named X.\n",
        "# 4. Divide the dataset into two parts for training and testing in 70% and 30% proportion\n",
        "# 5. Create and train Random Forest Model on training set\n",
        "# 6. Make predictions based on the testing set using the trained model\n",
        "# 7. Check the performance by calculating the confusion matrix and accuracy score of the model "
      ]
    },
    {
      "cell_type": "code",
      "execution_count": null,
      "id": "4f0633f9",
      "metadata": {
        "id": "4f0633f9",
        "outputId": "9392c208-3bd3-4df9-9c10-c9e7f3589a8b"
      },
      "outputs": [
        {
          "data": {
            "text/html": [
              "<div>\n",
              "<style scoped>\n",
              "    .dataframe tbody tr th:only-of-type {\n",
              "        vertical-align: middle;\n",
              "    }\n",
              "\n",
              "    .dataframe tbody tr th {\n",
              "        vertical-align: top;\n",
              "    }\n",
              "\n",
              "    .dataframe thead th {\n",
              "        text-align: right;\n",
              "    }\n",
              "</style>\n",
              "<table border=\"1\" class=\"dataframe\">\n",
              "  <thead>\n",
              "    <tr style=\"text-align: right;\">\n",
              "      <th></th>\n",
              "      <th>Pregnancies</th>\n",
              "      <th>Glucose</th>\n",
              "      <th>BloodPressure</th>\n",
              "      <th>SkinThickness</th>\n",
              "      <th>Insulin</th>\n",
              "      <th>BMI</th>\n",
              "      <th>DiabetesPedigreeFunction</th>\n",
              "      <th>Age</th>\n",
              "      <th>Outcome</th>\n",
              "    </tr>\n",
              "  </thead>\n",
              "  <tbody>\n",
              "    <tr>\n",
              "      <th>0</th>\n",
              "      <td>6</td>\n",
              "      <td>148</td>\n",
              "      <td>72</td>\n",
              "      <td>35</td>\n",
              "      <td>0</td>\n",
              "      <td>33.6</td>\n",
              "      <td>0.627</td>\n",
              "      <td>50</td>\n",
              "      <td>1</td>\n",
              "    </tr>\n",
              "    <tr>\n",
              "      <th>1</th>\n",
              "      <td>1</td>\n",
              "      <td>85</td>\n",
              "      <td>66</td>\n",
              "      <td>29</td>\n",
              "      <td>0</td>\n",
              "      <td>26.6</td>\n",
              "      <td>0.351</td>\n",
              "      <td>31</td>\n",
              "      <td>0</td>\n",
              "    </tr>\n",
              "    <tr>\n",
              "      <th>2</th>\n",
              "      <td>8</td>\n",
              "      <td>183</td>\n",
              "      <td>64</td>\n",
              "      <td>0</td>\n",
              "      <td>0</td>\n",
              "      <td>23.3</td>\n",
              "      <td>0.672</td>\n",
              "      <td>32</td>\n",
              "      <td>1</td>\n",
              "    </tr>\n",
              "    <tr>\n",
              "      <th>3</th>\n",
              "      <td>1</td>\n",
              "      <td>89</td>\n",
              "      <td>66</td>\n",
              "      <td>23</td>\n",
              "      <td>94</td>\n",
              "      <td>28.1</td>\n",
              "      <td>0.167</td>\n",
              "      <td>21</td>\n",
              "      <td>0</td>\n",
              "    </tr>\n",
              "    <tr>\n",
              "      <th>4</th>\n",
              "      <td>0</td>\n",
              "      <td>137</td>\n",
              "      <td>40</td>\n",
              "      <td>35</td>\n",
              "      <td>168</td>\n",
              "      <td>43.1</td>\n",
              "      <td>2.288</td>\n",
              "      <td>33</td>\n",
              "      <td>1</td>\n",
              "    </tr>\n",
              "  </tbody>\n",
              "</table>\n",
              "</div>"
            ],
            "text/plain": [
              "   Pregnancies  Glucose  BloodPressure  SkinThickness  Insulin   BMI  \\\n",
              "0            6      148             72             35        0  33.6   \n",
              "1            1       85             66             29        0  26.6   \n",
              "2            8      183             64              0        0  23.3   \n",
              "3            1       89             66             23       94  28.1   \n",
              "4            0      137             40             35      168  43.1   \n",
              "\n",
              "   DiabetesPedigreeFunction  Age  Outcome  \n",
              "0                     0.627   50        1  \n",
              "1                     0.351   31        0  \n",
              "2                     0.672   32        1  \n",
              "3                     0.167   21        0  \n",
              "4                     2.288   33        1  "
            ]
          },
          "execution_count": 68,
          "metadata": {},
          "output_type": "execute_result"
        }
      ],
      "source": [
        "#1. Load the dataset using pandas\n",
        "df = pd.read_csv('diabetes.csv')\n",
        "df.head()"
      ]
    },
    {
      "cell_type": "code",
      "execution_count": null,
      "id": "a7e9866f",
      "metadata": {
        "id": "a7e9866f"
      },
      "outputs": [],
      "source": [
        "#2. Extract data from Outcome column is a variable named Y\n",
        "Y = df.iloc[:,-1]"
      ]
    },
    {
      "cell_type": "code",
      "execution_count": null,
      "id": "1dec9381",
      "metadata": {
        "id": "1dec9381"
      },
      "outputs": [],
      "source": [
        "#3. Extract data from every column except Outcome column in a variable named X.\n",
        "X = df.iloc[:,:8]"
      ]
    },
    {
      "cell_type": "code",
      "execution_count": null,
      "id": "b0699dad",
      "metadata": {
        "id": "b0699dad"
      },
      "outputs": [],
      "source": [
        "#4. Divide the dataset into two parts for training and testing in 70% and 30% proportion\n",
        "#from sklearn.model_selection import train_test_split\n",
        "X_train,X_test,Y_train,Y_test = train_test_split(X,Y,test_size = 0.3,random_state = 1)"
      ]
    },
    {
      "cell_type": "code",
      "execution_count": null,
      "id": "4266aabc",
      "metadata": {
        "id": "4266aabc",
        "outputId": "96cd959a-d485-412f-df40-2092dc45ffbd"
      },
      "outputs": [
        {
          "data": {
            "text/plain": [
              "RandomForestClassifier()"
            ]
          },
          "execution_count": 80,
          "metadata": {},
          "output_type": "execute_result"
        }
      ],
      "source": [
        "#5. Create and train Random Forest Model on training set\n",
        "from sklearn.ensemble import RandomForestClassifier\n",
        "rdm = RandomForestClassifier()\n",
        "rdm.fit(X_train,Y_train)"
      ]
    },
    {
      "cell_type": "code",
      "execution_count": null,
      "id": "04517dce",
      "metadata": {
        "id": "04517dce"
      },
      "outputs": [],
      "source": [
        "#6. Make predictions based on the testing set using the trained model\n",
        "Y_pred = rdm.predict(X_test)"
      ]
    },
    {
      "cell_type": "code",
      "execution_count": null,
      "id": "1f0ecacd",
      "metadata": {
        "id": "1f0ecacd"
      },
      "outputs": [],
      "source": [
        "#7. Check the performance by calculating the confusion matrix and accuracy score of the model \n",
        "#from sklearn.metrics import confusion_matrix,accuracy_score\n",
        "results = confusion_matrix(Y_pred,Y_test)"
      ]
    },
    {
      "cell_type": "code",
      "execution_count": null,
      "id": "40aad2e8",
      "metadata": {
        "id": "40aad2e8",
        "outputId": "8dae63d7-c683-4ed4-e624-e460755c0b05"
      },
      "outputs": [
        {
          "data": {
            "text/plain": [
              "array([[129,  32],\n",
              "       [ 17,  53]], dtype=int64)"
            ]
          },
          "execution_count": 85,
          "metadata": {},
          "output_type": "execute_result"
        }
      ],
      "source": [
        "results"
      ]
    },
    {
      "cell_type": "code",
      "execution_count": null,
      "id": "fa28bf9f",
      "metadata": {
        "id": "fa28bf9f",
        "outputId": "b3176df9-5896-4f30-d4b9-344ac114aa76"
      },
      "outputs": [
        {
          "name": "stdout",
          "output_type": "stream",
          "text": [
            "0.7878787878787878\n"
          ]
        }
      ],
      "source": [
        "print((129+53)/(129+32+17+53))"
      ]
    },
    {
      "cell_type": "markdown",
      "source": [
        "Naive Bayes"
      ],
      "metadata": {
        "id": "WKjy0vKAtPYo"
      },
      "id": "WKjy0vKAtPYo"
    },
    {
      "cell_type": "code",
      "source": [
        "#1. Load the dataset using pandas\n",
        "#2. Extract data fromOutcome column is a variable named Y\n",
        "#3. Extract data from every column except Outcome column in a variable named X\n",
        "#4. Divide the dataset into two parts for training and testing in 70% and 30% proportion\n",
        "#5. Create and train Naïve Bayes Model on training set\n",
        "#6. Make predictions based on the testing set using the trained model\n",
        "#7. Check the performance by calculating the confusion matrix and accuracy score of the model"
      ],
      "metadata": {
        "id": "vBjrguuGt3Nx"
      },
      "id": "vBjrguuGt3Nx",
      "execution_count": null,
      "outputs": []
    },
    {
      "cell_type": "code",
      "execution_count": null,
      "id": "3e77ab62",
      "metadata": {
        "colab": {
          "base_uri": "https://localhost:8080/",
          "height": 206
        },
        "id": "3e77ab62",
        "outputId": "8f9dc62a-1a6b-4cd1-8d01-703beeda50db"
      },
      "outputs": [
        {
          "output_type": "execute_result",
          "data": {
            "text/plain": [
              "   Pregnancies  Glucose  BloodPressure  SkinThickness  Insulin   BMI  \\\n",
              "0            6      148             72             35        0  33.6   \n",
              "1            1       85             66             29        0  26.6   \n",
              "2            8      183             64              0        0  23.3   \n",
              "3            1       89             66             23       94  28.1   \n",
              "4            0      137             40             35      168  43.1   \n",
              "\n",
              "   DiabetesPedigreeFunction  Age  Outcome  \n",
              "0                     0.627   50        1  \n",
              "1                     0.351   31        0  \n",
              "2                     0.672   32        1  \n",
              "3                     0.167   21        0  \n",
              "4                     2.288   33        1  "
            ],
            "text/html": [
              "\n",
              "  <div id=\"df-b66a92bc-eeb2-4ea3-99d5-98b7445c1e03\">\n",
              "    <div class=\"colab-df-container\">\n",
              "      <div>\n",
              "<style scoped>\n",
              "    .dataframe tbody tr th:only-of-type {\n",
              "        vertical-align: middle;\n",
              "    }\n",
              "\n",
              "    .dataframe tbody tr th {\n",
              "        vertical-align: top;\n",
              "    }\n",
              "\n",
              "    .dataframe thead th {\n",
              "        text-align: right;\n",
              "    }\n",
              "</style>\n",
              "<table border=\"1\" class=\"dataframe\">\n",
              "  <thead>\n",
              "    <tr style=\"text-align: right;\">\n",
              "      <th></th>\n",
              "      <th>Pregnancies</th>\n",
              "      <th>Glucose</th>\n",
              "      <th>BloodPressure</th>\n",
              "      <th>SkinThickness</th>\n",
              "      <th>Insulin</th>\n",
              "      <th>BMI</th>\n",
              "      <th>DiabetesPedigreeFunction</th>\n",
              "      <th>Age</th>\n",
              "      <th>Outcome</th>\n",
              "    </tr>\n",
              "  </thead>\n",
              "  <tbody>\n",
              "    <tr>\n",
              "      <th>0</th>\n",
              "      <td>6</td>\n",
              "      <td>148</td>\n",
              "      <td>72</td>\n",
              "      <td>35</td>\n",
              "      <td>0</td>\n",
              "      <td>33.6</td>\n",
              "      <td>0.627</td>\n",
              "      <td>50</td>\n",
              "      <td>1</td>\n",
              "    </tr>\n",
              "    <tr>\n",
              "      <th>1</th>\n",
              "      <td>1</td>\n",
              "      <td>85</td>\n",
              "      <td>66</td>\n",
              "      <td>29</td>\n",
              "      <td>0</td>\n",
              "      <td>26.6</td>\n",
              "      <td>0.351</td>\n",
              "      <td>31</td>\n",
              "      <td>0</td>\n",
              "    </tr>\n",
              "    <tr>\n",
              "      <th>2</th>\n",
              "      <td>8</td>\n",
              "      <td>183</td>\n",
              "      <td>64</td>\n",
              "      <td>0</td>\n",
              "      <td>0</td>\n",
              "      <td>23.3</td>\n",
              "      <td>0.672</td>\n",
              "      <td>32</td>\n",
              "      <td>1</td>\n",
              "    </tr>\n",
              "    <tr>\n",
              "      <th>3</th>\n",
              "      <td>1</td>\n",
              "      <td>89</td>\n",
              "      <td>66</td>\n",
              "      <td>23</td>\n",
              "      <td>94</td>\n",
              "      <td>28.1</td>\n",
              "      <td>0.167</td>\n",
              "      <td>21</td>\n",
              "      <td>0</td>\n",
              "    </tr>\n",
              "    <tr>\n",
              "      <th>4</th>\n",
              "      <td>0</td>\n",
              "      <td>137</td>\n",
              "      <td>40</td>\n",
              "      <td>35</td>\n",
              "      <td>168</td>\n",
              "      <td>43.1</td>\n",
              "      <td>2.288</td>\n",
              "      <td>33</td>\n",
              "      <td>1</td>\n",
              "    </tr>\n",
              "  </tbody>\n",
              "</table>\n",
              "</div>\n",
              "      <button class=\"colab-df-convert\" onclick=\"convertToInteractive('df-b66a92bc-eeb2-4ea3-99d5-98b7445c1e03')\"\n",
              "              title=\"Convert this dataframe to an interactive table.\"\n",
              "              style=\"display:none;\">\n",
              "        \n",
              "  <svg xmlns=\"http://www.w3.org/2000/svg\" height=\"24px\"viewBox=\"0 0 24 24\"\n",
              "       width=\"24px\">\n",
              "    <path d=\"M0 0h24v24H0V0z\" fill=\"none\"/>\n",
              "    <path d=\"M18.56 5.44l.94 2.06.94-2.06 2.06-.94-2.06-.94-.94-2.06-.94 2.06-2.06.94zm-11 1L8.5 8.5l.94-2.06 2.06-.94-2.06-.94L8.5 2.5l-.94 2.06-2.06.94zm10 10l.94 2.06.94-2.06 2.06-.94-2.06-.94-.94-2.06-.94 2.06-2.06.94z\"/><path d=\"M17.41 7.96l-1.37-1.37c-.4-.4-.92-.59-1.43-.59-.52 0-1.04.2-1.43.59L10.3 9.45l-7.72 7.72c-.78.78-.78 2.05 0 2.83L4 21.41c.39.39.9.59 1.41.59.51 0 1.02-.2 1.41-.59l7.78-7.78 2.81-2.81c.8-.78.8-2.07 0-2.86zM5.41 20L4 18.59l7.72-7.72 1.47 1.35L5.41 20z\"/>\n",
              "  </svg>\n",
              "      </button>\n",
              "      \n",
              "  <style>\n",
              "    .colab-df-container {\n",
              "      display:flex;\n",
              "      flex-wrap:wrap;\n",
              "      gap: 12px;\n",
              "    }\n",
              "\n",
              "    .colab-df-convert {\n",
              "      background-color: #E8F0FE;\n",
              "      border: none;\n",
              "      border-radius: 50%;\n",
              "      cursor: pointer;\n",
              "      display: none;\n",
              "      fill: #1967D2;\n",
              "      height: 32px;\n",
              "      padding: 0 0 0 0;\n",
              "      width: 32px;\n",
              "    }\n",
              "\n",
              "    .colab-df-convert:hover {\n",
              "      background-color: #E2EBFA;\n",
              "      box-shadow: 0px 1px 2px rgba(60, 64, 67, 0.3), 0px 1px 3px 1px rgba(60, 64, 67, 0.15);\n",
              "      fill: #174EA6;\n",
              "    }\n",
              "\n",
              "    [theme=dark] .colab-df-convert {\n",
              "      background-color: #3B4455;\n",
              "      fill: #D2E3FC;\n",
              "    }\n",
              "\n",
              "    [theme=dark] .colab-df-convert:hover {\n",
              "      background-color: #434B5C;\n",
              "      box-shadow: 0px 1px 3px 1px rgba(0, 0, 0, 0.15);\n",
              "      filter: drop-shadow(0px 1px 2px rgba(0, 0, 0, 0.3));\n",
              "      fill: #FFFFFF;\n",
              "    }\n",
              "  </style>\n",
              "\n",
              "      <script>\n",
              "        const buttonEl =\n",
              "          document.querySelector('#df-b66a92bc-eeb2-4ea3-99d5-98b7445c1e03 button.colab-df-convert');\n",
              "        buttonEl.style.display =\n",
              "          google.colab.kernel.accessAllowed ? 'block' : 'none';\n",
              "\n",
              "        async function convertToInteractive(key) {\n",
              "          const element = document.querySelector('#df-b66a92bc-eeb2-4ea3-99d5-98b7445c1e03');\n",
              "          const dataTable =\n",
              "            await google.colab.kernel.invokeFunction('convertToInteractive',\n",
              "                                                     [key], {});\n",
              "          if (!dataTable) return;\n",
              "\n",
              "          const docLinkHtml = 'Like what you see? Visit the ' +\n",
              "            '<a target=\"_blank\" href=https://colab.research.google.com/notebooks/data_table.ipynb>data table notebook</a>'\n",
              "            + ' to learn more about interactive tables.';\n",
              "          element.innerHTML = '';\n",
              "          dataTable['output_type'] = 'display_data';\n",
              "          await google.colab.output.renderOutput(dataTable, element);\n",
              "          const docLink = document.createElement('div');\n",
              "          docLink.innerHTML = docLinkHtml;\n",
              "          element.appendChild(docLink);\n",
              "        }\n",
              "      </script>\n",
              "    </div>\n",
              "  </div>\n",
              "  "
            ]
          },
          "metadata": {},
          "execution_count": 4
        }
      ],
      "source": [
        "#1. Load the dataset using pandas\n",
        "df = pd.read_csv('diabetes.csv')\n",
        "df.head()"
      ]
    },
    {
      "cell_type": "code",
      "source": [
        "#2. Extract data fromOutcome column is a variable named Y\n",
        "Y = df.iloc[:,-1]"
      ],
      "metadata": {
        "id": "g9pFJNSduACM"
      },
      "id": "g9pFJNSduACM",
      "execution_count": null,
      "outputs": []
    },
    {
      "cell_type": "code",
      "source": [
        "#3. Extract data from every column except Outcome column in a variable named X\n",
        "X = df.iloc[:,:8]"
      ],
      "metadata": {
        "id": "j0mgHGH8t1Vk"
      },
      "id": "j0mgHGH8t1Vk",
      "execution_count": null,
      "outputs": []
    },
    {
      "cell_type": "code",
      "source": [
        "#4. Divide the dataset into two parts for training and testing in 70% and 30% proportion\n",
        "from sklearn.model_selection import train_test_split\n",
        "X_train,X_test,Y_train,Y_test = train_test_split(X,Y,test_size = 0.3,random_state = 1)"
      ],
      "metadata": {
        "id": "-0sY5y24uXKE"
      },
      "id": "-0sY5y24uXKE",
      "execution_count": null,
      "outputs": []
    },
    {
      "cell_type": "code",
      "source": [
        "#5. Create and train Naïve Bayes Model on training set\n",
        "from sklearn.naive_bayes import GaussianNB\n",
        "nbc = GaussianNB()\n",
        "nbc.fit(X_train,Y_train)"
      ],
      "metadata": {
        "colab": {
          "base_uri": "https://localhost:8080/"
        },
        "id": "GPdAU7YLuhw8",
        "outputId": "e63fb02b-7920-4762-90df-6c8a79b55a0c"
      },
      "id": "GPdAU7YLuhw8",
      "execution_count": null,
      "outputs": [
        {
          "output_type": "execute_result",
          "data": {
            "text/plain": [
              "GaussianNB()"
            ]
          },
          "metadata": {},
          "execution_count": 11
        }
      ]
    },
    {
      "cell_type": "code",
      "source": [
        "#6. Make predictions based on the testing set using the trained model\n",
        "Y_pred = nbc.predict(X_test)"
      ],
      "metadata": {
        "id": "ucDhuDKevKKm"
      },
      "id": "ucDhuDKevKKm",
      "execution_count": null,
      "outputs": []
    },
    {
      "cell_type": "code",
      "source": [
        "#7. Check the performance by calculating the confusion matrix and accuracy score of the model\n",
        "from sklearn.metrics import confusion_matrix,accuracy_score\n",
        "results = confusion_matrix(Y_pred,Y_test)\n",
        "results"
      ],
      "metadata": {
        "colab": {
          "base_uri": "https://localhost:8080/"
        },
        "id": "0Nt4VWMYvhzr",
        "outputId": "a1668cbb-6d89-4132-ecfb-93577c64418f"
      },
      "id": "0Nt4VWMYvhzr",
      "execution_count": null,
      "outputs": [
        {
          "output_type": "execute_result",
          "data": {
            "text/plain": [
              "array([[128,  32],\n",
              "       [ 18,  53]])"
            ]
          },
          "metadata": {},
          "execution_count": 17
        }
      ]
    },
    {
      "cell_type": "code",
      "source": [
        "((128+35)/(128+32+18+53))"
      ],
      "metadata": {
        "colab": {
          "base_uri": "https://localhost:8080/"
        },
        "id": "9arlwItXvpb5",
        "outputId": "228a81ef-a3fb-496a-a5d1-35a0d938370b"
      },
      "id": "9arlwItXvpb5",
      "execution_count": null,
      "outputs": [
        {
          "output_type": "execute_result",
          "data": {
            "text/plain": [
              "0.7056277056277056"
            ]
          },
          "metadata": {},
          "execution_count": 18
        }
      ]
    }
  ],
  "metadata": {
    "kernelspec": {
      "display_name": "Python 3",
      "language": "python",
      "name": "python3"
    },
    "language_info": {
      "codemirror_mode": {
        "name": "ipython",
        "version": 3
      },
      "file_extension": ".py",
      "mimetype": "text/x-python",
      "name": "python",
      "nbconvert_exporter": "python",
      "pygments_lexer": "ipython3",
      "version": "3.8.8"
    },
    "colab": {
      "name": "Module8-Assignments.ipynb",
      "provenance": [],
      "collapsed_sections": []
    }
  },
  "nbformat": 4,
  "nbformat_minor": 5
}